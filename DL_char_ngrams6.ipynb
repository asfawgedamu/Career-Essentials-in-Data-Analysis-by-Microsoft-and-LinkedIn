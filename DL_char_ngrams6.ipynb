{
  "nbformat": 4,
  "nbformat_minor": 5,
  "metadata": {
    "accelerator": "TPU",
    "colab": {
      "provenance": [],
      "include_colab_link": true
    },
    "kernelspec": {
      "display_name": "Python 3",
      "language": "python",
      "name": "python3"
    }
  },
  "cells": [
    {
      "cell_type": "markdown",
      "metadata": {
        "id": "view-in-github",
        "colab_type": "text"
      },
      "source": [
        "<a href=\"https://colab.research.google.com/github/asfawgedamu/Career-Essentials-in-Data-Analysis-by-Microsoft-and-LinkedIn/blob/main/DL_char_ngrams6.ipynb\" target=\"_parent\"><img src=\"https://colab.research.google.com/assets/colab-badge.svg\" alt=\"Open In Colab\"/></a>"
      ]
    },
    {
      "cell_type": "code",
      "metadata": {
        "id": "F0Qfn_pvz2m1"
      },
      "source": [
        "# Avoids scroll-in-the-scroll in the entire Notebook\n",
        "from IPython.display import Javascript\n",
        "def resize_colab_cell():\n",
        "  display(Javascript('google.colab.output.setIframeHeight(0, true, {maxHeight: 2000})'))\n",
        "  display(Javascript('google.colab.output.setIframeWidth(0, true, {maxWidth: 2000})'))\n",
        "get_ipython().events.register('pre_run_cell', resize_colab_cell)"
      ],
      "id": "F0Qfn_pvz2m1",
      "execution_count": null,
      "outputs": []
    },
    {
      "cell_type": "code",
      "metadata": {
        "colab": {
          "base_uri": "https://localhost:8080/",
          "height": 17
        },
        "id": "f2b48a3d",
        "outputId": "62bcdd4f-b0d8-4b1c-ce06-07e581b610a6"
      },
      "source": [
        "import sys\n",
        "import os\n",
        "import re\n",
        "import random\n",
        "from collections import defaultdict\n",
        "\n",
        "from nltk import ngrams\n",
        "\n",
        "from __future__ import print_function\n",
        "import numpy as np\n",
        "import pandas as pd\n",
        "#from keras.utils import np_utils,to_categorical\n",
        "import matplotlib.pyplot as plt\n",
        "from keras.utils.vis_utils import plot_model\n",
        "\n",
        "from keras.wrappers.scikit_learn import KerasClassifier\n",
        "from sklearn.model_selection import cross_val_score,KFold,GridSearchCV,train_test_split\n",
        "from sklearn.metrics import confusion_matrix\n",
        "from sklearn.metrics import classification_report\n",
        "\n",
        "from keras.models import load_model\n",
        "from keras.callbacks import EarlyStopping,ModelCheckpoint\n",
        "\n",
        "import tensorflow as tf\n",
        "from tensorflow import keras\n",
        "from tensorflow.keras import layers\n",
        "from tensorflow.keras import regularizers\n",
        "\n",
        "\n",
        "from keras.layers.convolutional import Conv1D,MaxPooling1D\n",
        "\n",
        "\n",
        "from tensorflow.keras.preprocessing.text import Tokenizer\n",
        "from tensorflow.keras.preprocessing.sequence import pad_sequences\n",
        "from keras.layers.embeddings import Embedding\n",
        "from keras.preprocessing import sequence\n",
        "\n",
        "from tensorflow.keras.models import Sequential\n",
        "from tensorflow.keras.layers import Dense, Dropout, Embedding, Bidirectional, LSTM\n",
        "\n",
        "\n",
        "\n",
        "# fix random seed for reproducibility\n",
        "np.random.seed(7)\n",
        "random.seed(42)\n",
        "\n",
        "\n",
        "# Put the hyperparameters at the top like this to make it easier to change and edit.\n",
        "\n",
        "max_features = 20000\n",
        "embedding_dim = 64\n",
        "max_length = 500\n",
        "trunc_type = 'post'\n",
        "padding_type = 'post'\n",
        "oov_tok = '<OOV>'\n",
        "training_portion = .8\n",
        "num_classes = 3\n"
      ],
      "id": "f2b48a3d",
      "execution_count": null,
      "outputs": [
        {
          "data": {
            "application/javascript": [
              "google.colab.output.setIframeHeight(0, true, {maxHeight: 2000})"
            ],
            "text/plain": [
              "<IPython.core.display.Javascript object>"
            ]
          },
          "metadata": {},
          "output_type": "display_data"
        },
        {
          "data": {
            "application/javascript": [
              "google.colab.output.setIframeWidth(0, true, {maxWidth: 2000})"
            ],
            "text/plain": [
              "<IPython.core.display.Javascript object>"
            ]
          },
          "metadata": {},
          "output_type": "display_data"
        }
      ]
    },
    {
      "cell_type": "code",
      "metadata": {
        "colab": {
          "base_uri": "https://localhost:8080/",
          "height": 17
        },
        "id": "16b644de",
        "outputId": "9a4ed77d-0fd8-4049-b1c7-4e939282e26b"
      },
      "source": [
        "#pip install graphviz\n"
      ],
      "id": "16b644de",
      "execution_count": null,
      "outputs": [
        {
          "data": {
            "application/javascript": [
              "google.colab.output.setIframeHeight(0, true, {maxHeight: 2000})"
            ],
            "text/plain": [
              "<IPython.core.display.Javascript object>"
            ]
          },
          "metadata": {},
          "output_type": "display_data"
        },
        {
          "data": {
            "application/javascript": [
              "google.colab.output.setIframeWidth(0, true, {maxWidth: 2000})"
            ],
            "text/plain": [
              "<IPython.core.display.Javascript object>"
            ]
          },
          "metadata": {},
          "output_type": "display_data"
        }
      ]
    },
    {
      "cell_type": "code",
      "metadata": {
        "colab": {
          "base_uri": "https://localhost:8080/",
          "height": 17
        },
        "id": "EZgbLyHYNqq-",
        "outputId": "2f282107-9234-48b5-e5a1-e6f3c1928ac0"
      },
      "source": [
        "from google.colab import auth,drive\n",
        "auth.authenticate_user()\n"
      ],
      "id": "EZgbLyHYNqq-",
      "execution_count": null,
      "outputs": [
        {
          "data": {
            "application/javascript": [
              "google.colab.output.setIframeHeight(0, true, {maxHeight: 2000})"
            ],
            "text/plain": [
              "<IPython.core.display.Javascript object>"
            ]
          },
          "metadata": {},
          "output_type": "display_data"
        },
        {
          "data": {
            "application/javascript": [
              "google.colab.output.setIframeWidth(0, true, {maxWidth: 2000})"
            ],
            "text/plain": [
              "<IPython.core.display.Javascript object>"
            ]
          },
          "metadata": {},
          "output_type": "display_data"
        }
      ]
    },
    {
      "cell_type": "code",
      "metadata": {
        "colab": {
          "base_uri": "https://localhost:8080/",
          "height": 73
        },
        "id": "FjJ849dcFBa2",
        "outputId": "9df4319c-d194-479f-ae3f-c89113397f6d"
      },
      "source": [
        "''''#@title\n",
        "# Libraries for data manipulation and visualization\n",
        "from google.colab import files\n",
        "\n",
        "uploaded = files.upload()\n",
        "\n",
        "for fn in uploaded.keys():\n",
        "  print('User uploaded file \"{name}\" with length {length} bytes'.format(\n",
        "      name=fn, length=len(uploaded[fn])))'''\n",
        "\n",
        "\n",
        "\n",
        "\n"
      ],
      "id": "FjJ849dcFBa2",
      "execution_count": null,
      "outputs": [
        {
          "data": {
            "application/javascript": [
              "google.colab.output.setIframeHeight(0, true, {maxHeight: 2000})"
            ],
            "text/plain": [
              "<IPython.core.display.Javascript object>"
            ]
          },
          "metadata": {},
          "output_type": "display_data"
        },
        {
          "data": {
            "application/javascript": [
              "google.colab.output.setIframeWidth(0, true, {maxWidth: 2000})"
            ],
            "text/plain": [
              "<IPython.core.display.Javascript object>"
            ]
          },
          "metadata": {},
          "output_type": "display_data"
        },
        {
          "data": {
            "application/vnd.google.colaboratory.intrinsic+json": {
              "type": "string"
            },
            "text/plain": [
              "'\\'#@title\\n# Libraries for data manipulation and visualization\\nfrom google.colab import files\\n\\nuploaded = files.upload()\\n\\nfor fn in uploaded.keys():\\n  print(\\'User uploaded file \"{name}\" with length {length} bytes\\'.format(\\n      name=fn, length=len(uploaded[fn])))'"
            ]
          },
          "execution_count": 9,
          "metadata": {},
          "output_type": "execute_result"
        }
      ]
    },
    {
      "cell_type": "code",
      "metadata": {
        "colab": {
          "base_uri": "https://localhost:8080/",
          "height": 56
        },
        "id": "f-IBkNUMOn-q",
        "outputId": "e84e05af-0b49-491d-b5f0-343c1ce852a3"
      },
      "source": [
        "from google.colab import drive\n",
        "drive.mount('/content/gdrive')"
      ],
      "id": "f-IBkNUMOn-q",
      "execution_count": null,
      "outputs": [
        {
          "data": {
            "application/javascript": [
              "google.colab.output.setIframeHeight(0, true, {maxHeight: 2000})"
            ],
            "text/plain": [
              "<IPython.core.display.Javascript object>"
            ]
          },
          "metadata": {},
          "output_type": "display_data"
        },
        {
          "data": {
            "application/javascript": [
              "google.colab.output.setIframeWidth(0, true, {maxWidth: 2000})"
            ],
            "text/plain": [
              "<IPython.core.display.Javascript object>"
            ]
          },
          "metadata": {},
          "output_type": "display_data"
        },
        {
          "name": "stdout",
          "output_type": "stream",
          "text": [
            "Drive already mounted at /content/gdrive; to attempt to forcibly remount, call drive.mount(\"/content/gdrive\", force_remount=True).\n"
          ]
        }
      ]
    },
    {
      "cell_type": "code",
      "metadata": {
        "colab": {
          "base_uri": "https://localhost:8080/",
          "height": 17
        },
        "id": "lfJ8Ujw8y-UN",
        "outputId": "9f47ff8e-7164-4b55-bfaf-6fa12001d48b"
      },
      "source": [
        "#Start by connecting gdrive into the google colab\n",
        "\n",
        "import os\n",
        "os.chdir (\"/content/gdrive/MyDrive/\")"
      ],
      "id": "lfJ8Ujw8y-UN",
      "execution_count": null,
      "outputs": [
        {
          "data": {
            "application/javascript": [
              "google.colab.output.setIframeHeight(0, true, {maxHeight: 2000})"
            ],
            "text/plain": [
              "<IPython.core.display.Javascript object>"
            ]
          },
          "metadata": {},
          "output_type": "display_data"
        },
        {
          "data": {
            "application/javascript": [
              "google.colab.output.setIframeWidth(0, true, {maxWidth: 2000})"
            ],
            "text/plain": [
              "<IPython.core.display.Javascript object>"
            ]
          },
          "metadata": {},
          "output_type": "display_data"
        }
      ]
    },
    {
      "cell_type": "code",
      "metadata": {
        "colab": {
          "base_uri": "https://localhost:8080/",
          "height": 221
        },
        "id": "ObTAXoWg0Lns",
        "outputId": "1caf078d-70a8-4d1a-8ed5-27969f198be2"
      },
      "source": [
        "!ls -l /content/gdrive/MyDrive/ |head\n"
      ],
      "id": "ObTAXoWg0Lns",
      "execution_count": null,
      "outputs": [
        {
          "data": {
            "application/javascript": [
              "google.colab.output.setIframeHeight(0, true, {maxHeight: 2000})"
            ],
            "text/plain": [
              "<IPython.core.display.Javascript object>"
            ]
          },
          "metadata": {},
          "output_type": "display_data"
        },
        {
          "data": {
            "application/javascript": [
              "google.colab.output.setIframeWidth(0, true, {maxWidth: 2000})"
            ],
            "text/plain": [
              "<IPython.core.display.Javascript object>"
            ]
          },
          "metadata": {},
          "output_type": "display_data"
        },
        {
          "name": "stdout",
          "output_type": "stream",
          "text": [
            "ls: /content/gdrive/MyDrive/Thesis: No such file or directory\n",
            "total 660701\n",
            "-rw------- 1 root root        63 Dec 23  2017 0966960495.vcf\n",
            "-rw------- 2 root root    238450 Jan 20  2019 165510-426981-1-SM.pdf\n",
            "-rw------- 1 root root   1205760 Sep  1  2019 1_IR_intro.ppt\n",
            "-rw------- 1 root root   1345536 Sep  1  2019 2_text operation.ppt\n",
            "-rw------- 1 root root   1504256 Sep  1  2019 3_termWeighting.ppt\n",
            "-rw------- 1 root root   3445071 Apr 17 18:14 4_5976689323028776928.pdf\n",
            "-rw------- 1 root root   1160192 Sep  1  2019 4_ Indexing.ppt\n",
            "-rw------- 1 root root   1425920 Sep  1  2019 5_IRModels.ppt\n",
            "-rw------- 1 root root   1172992 Sep  1  2019 6_Retrieval Evaluation.ppt\n"
          ]
        }
      ]
    },
    {
      "cell_type": "code",
      "metadata": {
        "colab": {
          "base_uri": "https://localhost:8080/",
          "height": 17
        },
        "id": "oVTwScUV3UjC",
        "outputId": "19513fe3-1885-4ee7-e929-723e6af2e8bd"
      },
      "source": [
        "!cd ColabNotebooks"
      ],
      "id": "oVTwScUV3UjC",
      "execution_count": null,
      "outputs": [
        {
          "data": {
            "application/javascript": [
              "google.colab.output.setIframeHeight(0, true, {maxHeight: 2000})"
            ],
            "text/plain": [
              "<IPython.core.display.Javascript object>"
            ]
          },
          "metadata": {},
          "output_type": "display_data"
        },
        {
          "data": {
            "application/javascript": [
              "google.colab.output.setIframeWidth(0, true, {maxWidth: 2000})"
            ],
            "text/plain": [
              "<IPython.core.display.Javascript object>"
            ]
          },
          "metadata": {},
          "output_type": "display_data"
        }
      ]
    },
    {
      "cell_type": "code",
      "metadata": {
        "colab": {
          "base_uri": "https://localhost:8080/",
          "height": 73
        },
        "id": "EEk8reZp47LB",
        "outputId": "4a1e3ac3-88ee-4f16-d58c-0407dbebfb99"
      },
      "source": [
        "!ls ColabNotebooks\n",
        "!pwd"
      ],
      "id": "EEk8reZp47LB",
      "execution_count": null,
      "outputs": [
        {
          "data": {
            "application/javascript": [
              "google.colab.output.setIframeHeight(0, true, {maxHeight: 2000})"
            ],
            "text/plain": [
              "<IPython.core.display.Javascript object>"
            ]
          },
          "metadata": {},
          "output_type": "display_data"
        },
        {
          "data": {
            "application/javascript": [
              "google.colab.output.setIframeWidth(0, true, {maxWidth: 2000})"
            ],
            "text/plain": [
              "<IPython.core.display.Javascript object>"
            ]
          },
          "metadata": {},
          "output_type": "display_data"
        },
        {
          "name": "stdout",
          "output_type": "stream",
          "text": [
            " all_source111.tsv     'Multi-Class Text Classification with LSTM TDI  .ipynb'\n",
            " DL-char-ngrams.ipynb  'Text Classification with LSTM TDI .ipynb'\n",
            "/content/gdrive/MyDrive\n"
          ]
        }
      ]
    },
    {
      "cell_type": "code",
      "metadata": {
        "colab": {
          "base_uri": "https://localhost:8080/",
          "height": 36
        },
        "id": "6GHpBSoVGKnc",
        "outputId": "5ce7f6a6-b48e-45a2-80b9-5925bf04abf4"
      },
      "source": [
        "!pwd"
      ],
      "id": "6GHpBSoVGKnc",
      "execution_count": null,
      "outputs": [
        {
          "data": {
            "application/javascript": [
              "google.colab.output.setIframeHeight(0, true, {maxHeight: 2000})"
            ],
            "text/plain": [
              "<IPython.core.display.Javascript object>"
            ]
          },
          "metadata": {},
          "output_type": "display_data"
        },
        {
          "data": {
            "application/javascript": [
              "google.colab.output.setIframeWidth(0, true, {maxWidth: 2000})"
            ],
            "text/plain": [
              "<IPython.core.display.Javascript object>"
            ]
          },
          "metadata": {},
          "output_type": "display_data"
        },
        {
          "name": "stdout",
          "output_type": "stream",
          "text": [
            "/content/gdrive/MyDrive\n"
          ]
        }
      ]
    },
    {
      "cell_type": "code",
      "metadata": {
        "colab": {
          "base_uri": "https://localhost:8080/",
          "height": 17
        },
        "id": "9ad27846",
        "outputId": "c993bb53-0bd0-4cf3-def2-055349e7a021"
      },
      "source": [
        "#Text Preprocessing step\n",
        "#Remove alphanumeric characters, punctuation marks and symbols\n",
        "\n",
        "BLOCK_CHAR = \"\"\"'()[]\":፣፡፡፡“”።?::፥፤]+\\*_-‘’!\"\"\" + 'abcdefghijklmnopqrstuvwxyzABCDEFGHIJKLMNOPQRSTUVWXYZ'\n",
        "BLOCK_CHAR = ''.join(BLOCK_CHAR.split())\n",
        "\n",
        "def clean_text(raw_text):\n",
        "    #raw_text = re.sub(r\"()[\"\":፣ ፡፡''፡“ ” ።?::፥፤]+\\ *\", \" \", raw_text)\n",
        "    for c in BLOCK_CHAR:\n",
        "        if c not in raw_text:\n",
        "            continue\n",
        "        raw_text = raw_text.replace(c, '')\n",
        "    return raw_text"
      ],
      "id": "9ad27846",
      "execution_count": null,
      "outputs": [
        {
          "data": {
            "application/javascript": [
              "google.colab.output.setIframeHeight(0, true, {maxHeight: 2000})"
            ],
            "text/plain": [
              "<IPython.core.display.Javascript object>"
            ]
          },
          "metadata": {},
          "output_type": "display_data"
        },
        {
          "data": {
            "application/javascript": [
              "google.colab.output.setIframeWidth(0, true, {maxWidth: 2000})"
            ],
            "text/plain": [
              "<IPython.core.display.Javascript object>"
            ]
          },
          "metadata": {},
          "output_type": "display_data"
        }
      ]
    },
    {
      "cell_type": "code",
      "metadata": {
        "colab": {
          "base_uri": "https://localhost:8080/",
          "height": 17
        },
        "id": "f8e858f4",
        "outputId": "91149e48-4a6b-453f-8e3a-5f62d5afa483"
      },
      "source": [
        "def load_data(fin):\n",
        "    '''accepts fin a string representing file name\n",
        "    returns list of lines in a file'''\n",
        "    X = []\n",
        "    y = []\n",
        "    with open(fin, encoding=\"utf8\") as f:\n",
        "        labels = next(f).rstrip('\\n').split('\\t')\n",
        "        for line in f:\n",
        "            parts = line.rstrip('\\n').split('\\t')\n",
        "            if len(set(parts)) != 3:\n",
        "                continue\n",
        "            for part, label in zip(parts, labels):\n",
        "\n",
        "                part = clean_text(part)\n",
        "                if part.strip() == '':\n",
        "                    continue\n",
        "                X.append(part)\n",
        "                y.append(label)\n",
        "    return X,y"
      ],
      "id": "f8e858f4",
      "execution_count": null,
      "outputs": [
        {
          "data": {
            "application/javascript": [
              "google.colab.output.setIframeHeight(0, true, {maxHeight: 2000})"
            ],
            "text/plain": [
              "<IPython.core.display.Javascript object>"
            ]
          },
          "metadata": {},
          "output_type": "display_data"
        },
        {
          "data": {
            "application/javascript": [
              "google.colab.output.setIframeWidth(0, true, {maxWidth: 2000})"
            ],
            "text/plain": [
              "<IPython.core.display.Javascript object>"
            ]
          },
          "metadata": {},
          "output_type": "display_data"
        }
      ]
    },
    {
      "cell_type": "code",
      "metadata": {
        "colab": {
          "base_uri": "https://localhost:8080/",
          "height": 17
        },
        "id": "3b117ddf",
        "outputId": "260aeb8b-9648-4699-8862-1a47a2399657"
      },
      "source": [
        "X,y = load_data('/content/gdrive/MyDrive/ColabNotebooks/all_source111.tsv')"
      ],
      "id": "3b117ddf",
      "execution_count": null,
      "outputs": [
        {
          "data": {
            "application/javascript": [
              "google.colab.output.setIframeHeight(0, true, {maxHeight: 2000})"
            ],
            "text/plain": [
              "<IPython.core.display.Javascript object>"
            ]
          },
          "metadata": {},
          "output_type": "display_data"
        },
        {
          "data": {
            "application/javascript": [
              "google.colab.output.setIframeWidth(0, true, {maxWidth: 2000})"
            ],
            "text/plain": [
              "<IPython.core.display.Javascript object>"
            ]
          },
          "metadata": {},
          "output_type": "display_data"
        }
      ]
    },
    {
      "cell_type": "code",
      "metadata": {
        "colab": {
          "base_uri": "https://localhost:8080/",
          "height": 17
        },
        "id": "612c01f6",
        "outputId": "118fc671-5a37-4a16-fe51-6f85132c343f"
      },
      "source": [
        "def gen_ngrams(s, ns=(1,2,3)):\n",
        "    '''takes s string and ns tuple as arguments\n",
        "    generates ngram strings'''\n",
        "    for n in ns:\n",
        "        for ngram in ngrams(s,n):\n",
        "            ngram = ''.join(ngram)\n",
        "            yield ngram"
      ],
      "id": "612c01f6",
      "execution_count": null,
      "outputs": [
        {
          "data": {
            "application/javascript": [
              "google.colab.output.setIframeHeight(0, true, {maxHeight: 2000})"
            ],
            "text/plain": [
              "<IPython.core.display.Javascript object>"
            ]
          },
          "metadata": {},
          "output_type": "display_data"
        },
        {
          "data": {
            "application/javascript": [
              "google.colab.output.setIframeWidth(0, true, {maxWidth: 2000})"
            ],
            "text/plain": [
              "<IPython.core.display.Javascript object>"
            ]
          },
          "metadata": {},
          "output_type": "display_data"
        }
      ]
    },
    {
      "cell_type": "code",
      "metadata": {
        "colab": {
          "base_uri": "https://localhost:8080/",
          "height": 17
        },
        "id": "a2876734",
        "outputId": "66a2c3a7-0ee5-41fc-e418-f7598dc22198"
      },
      "source": [
        "def ngram_freq(sents, ns=(1,2,3)):\n",
        "    ngram_tokens = defaultdict(int)\n",
        "    for s in sents:\n",
        "        for ngram in gen_ngrams(s, ns):\n",
        "            ngram_tokens[ngram] += 1\n",
        "    return ngram_tokens"
      ],
      "id": "a2876734",
      "execution_count": null,
      "outputs": [
        {
          "data": {
            "application/javascript": [
              "google.colab.output.setIframeHeight(0, true, {maxHeight: 2000})"
            ],
            "text/plain": [
              "<IPython.core.display.Javascript object>"
            ]
          },
          "metadata": {},
          "output_type": "display_data"
        },
        {
          "data": {
            "application/javascript": [
              "google.colab.output.setIframeWidth(0, true, {maxWidth: 2000})"
            ],
            "text/plain": [
              "<IPython.core.display.Javascript object>"
            ]
          },
          "metadata": {},
          "output_type": "display_data"
        }
      ]
    },
    {
      "cell_type": "code",
      "metadata": {
        "colab": {
          "base_uri": "https://localhost:8080/",
          "height": 17
        },
        "id": "fb226df1",
        "outputId": "b0581bc9-cee3-49fc-a462-7f43c6a5946e"
      },
      "source": [
        "# generating ngrams with values 1, 2 and 3\n",
        "ngram_tokens = ngram_freq(X, ns=(1,))"
      ],
      "id": "fb226df1",
      "execution_count": null,
      "outputs": [
        {
          "data": {
            "application/javascript": [
              "google.colab.output.setIframeHeight(0, true, {maxHeight: 2000})"
            ],
            "text/plain": [
              "<IPython.core.display.Javascript object>"
            ]
          },
          "metadata": {},
          "output_type": "display_data"
        },
        {
          "data": {
            "application/javascript": [
              "google.colab.output.setIframeWidth(0, true, {maxWidth: 2000})"
            ],
            "text/plain": [
              "<IPython.core.display.Javascript object>"
            ]
          },
          "metadata": {},
          "output_type": "display_data"
        }
      ]
    },
    {
      "cell_type": "code",
      "metadata": {
        "colab": {
          "base_uri": "https://localhost:8080/",
          "height": 17
        },
        "id": "70d61090",
        "outputId": "dabd318a-9bcb-458d-9864-7461d1ad1d15"
      },
      "source": [
        "# sorts ngrams by frequency from most frequent to least frequent\n",
        "top_ngrams_freq = sorted(ngram_tokens.items(), key=lambda x:x[1], reverse=True)"
      ],
      "id": "70d61090",
      "execution_count": null,
      "outputs": [
        {
          "data": {
            "application/javascript": [
              "google.colab.output.setIframeHeight(0, true, {maxHeight: 2000})"
            ],
            "text/plain": [
              "<IPython.core.display.Javascript object>"
            ]
          },
          "metadata": {},
          "output_type": "display_data"
        },
        {
          "data": {
            "application/javascript": [
              "google.colab.output.setIframeWidth(0, true, {maxWidth: 2000})"
            ],
            "text/plain": [
              "<IPython.core.display.Javascript object>"
            ]
          },
          "metadata": {},
          "output_type": "display_data"
        }
      ]
    },
    {
      "cell_type": "code",
      "metadata": {
        "colab": {
          "base_uri": "https://localhost:8080/",
          "height": 17
        },
        "id": "18edfcd4",
        "outputId": "8518de41-c75c-4a66-fd91-018c25bcb88b"
      },
      "source": [
        "word_list =  [oov_tok] + [i[0] for i in top_ngrams_freq[:max_features]]\n",
        "word_index = dict([(j,i) for (i,j) in enumerate(word_list, start=1)])"
      ],
      "id": "18edfcd4",
      "execution_count": null,
      "outputs": [
        {
          "data": {
            "application/javascript": [
              "google.colab.output.setIframeHeight(0, true, {maxHeight: 2000})"
            ],
            "text/plain": [
              "<IPython.core.display.Javascript object>"
            ]
          },
          "metadata": {},
          "output_type": "display_data"
        },
        {
          "data": {
            "application/javascript": [
              "google.colab.output.setIframeWidth(0, true, {maxWidth: 2000})"
            ],
            "text/plain": [
              "<IPython.core.display.Javascript object>"
            ]
          },
          "metadata": {},
          "output_type": "display_data"
        }
      ]
    },
    {
      "cell_type": "code",
      "metadata": {
        "colab": {
          "base_uri": "https://localhost:8080/",
          "height": 203
        },
        "id": "c35338a6",
        "scrolled": false,
        "outputId": "9304b70e-f8b0-42da-a239-8db0c9ffbf4b"
      },
      "source": [
        "dict(list(word_index.items())[0:10])"
      ],
      "id": "c35338a6",
      "execution_count": null,
      "outputs": [
        {
          "data": {
            "application/javascript": [
              "google.colab.output.setIframeHeight(0, true, {maxHeight: 2000})"
            ],
            "text/plain": [
              "<IPython.core.display.Javascript object>"
            ]
          },
          "metadata": {},
          "output_type": "display_data"
        },
        {
          "data": {
            "application/javascript": [
              "google.colab.output.setIframeWidth(0, true, {maxWidth: 2000})"
            ],
            "text/plain": [
              "<IPython.core.display.Javascript object>"
            ]
          },
          "metadata": {},
          "output_type": "display_data"
        },
        {
          "data": {
            "text/plain": [
              "{' ': 2,\n",
              " '<OOV>': 1,\n",
              " 'ል': 8,\n",
              " 'ም': 5,\n",
              " 'ር': 9,\n",
              " 'ብ': 4,\n",
              " 'ት': 6,\n",
              " 'ን': 7,\n",
              " 'ኣ': 10,\n",
              " 'ይ': 3}"
            ]
          },
          "execution_count": 25,
          "metadata": {},
          "output_type": "execute_result"
        }
      ]
    },
    {
      "cell_type": "code",
      "metadata": {
        "colab": {
          "base_uri": "https://localhost:8080/",
          "height": 36
        },
        "id": "0328d6d7",
        "outputId": "a2af41ca-cee9-45ae-e101-e3a799d8110a"
      },
      "source": [
        "#Display sample sentences\n",
        "X[0]"
      ],
      "id": "0328d6d7",
      "execution_count": null,
      "outputs": [
        {
          "data": {
            "application/javascript": [
              "google.colab.output.setIframeHeight(0, true, {maxHeight: 2000})"
            ],
            "text/plain": [
              "<IPython.core.display.Javascript object>"
            ]
          },
          "metadata": {},
          "output_type": "display_data"
        },
        {
          "data": {
            "application/javascript": [
              "google.colab.output.setIframeWidth(0, true, {maxWidth: 2000})"
            ],
            "text/plain": [
              "<IPython.core.display.Javascript object>"
            ]
          },
          "metadata": {},
          "output_type": "display_data"
        },
        {
          "data": {
            "application/vnd.google.colaboratory.intrinsic+json": {
              "type": "string"
            },
            "text/plain": [
              "'ወዲ ሰብ ካብ ፍጥረታት ዓለምና ዅሉ በዓል ብሩህ ኣእምሮ መስተውዓሊ ብልሂ ብምዃኑ ዘጋጥምዎ ፀገማት ፈተናታት ከባቢኡ ናብ ረብሕኡ ንምልዋጥ ብዙሓት መፍትሒ ምህዞታት ሜላታት ፈጢሩ'"
            ]
          },
          "execution_count": 26,
          "metadata": {},
          "output_type": "execute_result"
        }
      ]
    },
    {
      "cell_type": "code",
      "metadata": {
        "colab": {
          "base_uri": "https://localhost:8080/",
          "height": 17
        },
        "id": "abe2b5d1",
        "scrolled": false,
        "outputId": "b449a228-8b78-40ee-af70-14d5eeed9693"
      },
      "source": [
        "# Note: the ngram sequence (ns) we use for feature generation\n",
        "#must match the one used to build the dictionary\n",
        "#[i for i in gen_ngrams(X[0], ns=(1,))]"
      ],
      "id": "abe2b5d1",
      "execution_count": null,
      "outputs": [
        {
          "data": {
            "application/javascript": [
              "google.colab.output.setIframeHeight(0, true, {maxHeight: 2000})"
            ],
            "text/plain": [
              "<IPython.core.display.Javascript object>"
            ]
          },
          "metadata": {},
          "output_type": "display_data"
        },
        {
          "data": {
            "application/javascript": [
              "google.colab.output.setIframeWidth(0, true, {maxWidth: 2000})"
            ],
            "text/plain": [
              "<IPython.core.display.Javascript object>"
            ]
          },
          "metadata": {},
          "output_type": "display_data"
        }
      ]
    },
    {
      "cell_type": "code",
      "metadata": {
        "colab": {
          "base_uri": "https://localhost:8080/",
          "height": 56
        },
        "id": "e186da7b",
        "outputId": "772b32bc-2d6a-443c-d7c3-ab4252975c44"
      },
      "source": [
        "# Sample text to confirm if the codes above are working\n",
        "\n",
        "a = 'እቲ ናይትግራይ ቴሌቪዥን ጋዜጠኛ ዮውሃንስ ዝበሃል ግን ጋዜጠኛዶ ወይስ ወኪል ህወሓት ይግርም'\n",
        "t = [i for i in gen_ngrams(a, ns=(1,))]\n",
        "idx = [word_index.get(tok, 1) for tok in t]\n",
        "#print(t)\n",
        "print(t + idx)"
      ],
      "id": "e186da7b",
      "execution_count": null,
      "outputs": [
        {
          "data": {
            "application/javascript": [
              "google.colab.output.setIframeHeight(0, true, {maxHeight: 2000})"
            ],
            "text/plain": [
              "<IPython.core.display.Javascript object>"
            ]
          },
          "metadata": {},
          "output_type": "display_data"
        },
        {
          "data": {
            "application/javascript": [
              "google.colab.output.setIframeWidth(0, true, {maxWidth: 2000})"
            ],
            "text/plain": [
              "<IPython.core.display.Javascript object>"
            ]
          },
          "metadata": {},
          "output_type": "display_data"
        },
        {
          "name": "stdout",
          "output_type": "stream",
          "text": [
            "['እ', 'ቲ', ' ', 'ና', 'ይ', 'ት', 'ግ', 'ራ', 'ይ', ' ', 'ቴ', 'ሌ', 'ቪ', 'ዥ', 'ን', ' ', 'ጋ', 'ዜ', 'ጠ', 'ኛ', ' ', 'ዮ', 'ው', 'ሃ', 'ን', 'ስ', ' ', 'ዝ', 'በ', 'ሃ', 'ል', ' ', 'ግ', 'ን', ' ', 'ጋ', 'ዜ', 'ጠ', 'ኛ', 'ዶ', ' ', 'ወ', 'ይ', 'ስ', ' ', 'ወ', 'ኪ', 'ል', ' ', 'ህ', 'ወ', 'ሓ', 'ት', ' ', 'ይ', 'ግ', 'ር', 'ም', 11, 39, 2, 15, 3, 6, 22, 38, 3, 2, 164, 151, 193, 209, 7, 2, 73, 122, 74, 136, 2, 80, 36, 42, 7, 13, 2, 33, 19, 42, 8, 2, 22, 7, 2, 73, 122, 74, 136, 104, 2, 34, 3, 13, 2, 34, 131, 8, 2, 45, 34, 21, 6, 2, 3, 22, 9, 5]\n"
          ]
        }
      ]
    },
    {
      "cell_type": "code",
      "metadata": {
        "colab": {
          "base_uri": "https://localhost:8080/",
          "height": 17
        },
        "id": "93c7e86d",
        "outputId": "37408124-9c68-4556-a494-a70fb5b43ab2"
      },
      "source": [
        "def tokenizer(X, ns=(1,2)):\n",
        "    \"\"\"using list comprehension\n",
        "    X_tok = [i for i in gen_ngrams(x, ns=(1,2,3)) for x in X]\n",
        "    \"\"\"\n",
        "    tokenized = []\n",
        "    for x in X:\n",
        "        toks = [tok for tok in gen_ngrams(x, ns)]\n",
        "        idx = [word_index.get(tok, 1) for tok in toks]\n",
        "        tokenized.append(idx)\n",
        "        if max(idx) > 20000 + 1:\n",
        "            print(x)\n",
        "    return tokenized"
      ],
      "id": "93c7e86d",
      "execution_count": null,
      "outputs": [
        {
          "data": {
            "application/javascript": [
              "google.colab.output.setIframeHeight(0, true, {maxHeight: 2000})"
            ],
            "text/plain": [
              "<IPython.core.display.Javascript object>"
            ]
          },
          "metadata": {},
          "output_type": "display_data"
        },
        {
          "data": {
            "application/javascript": [
              "google.colab.output.setIframeWidth(0, true, {maxWidth: 2000})"
            ],
            "text/plain": [
              "<IPython.core.display.Javascript object>"
            ]
          },
          "metadata": {},
          "output_type": "display_data"
        }
      ]
    },
    {
      "cell_type": "code",
      "metadata": {
        "colab": {
          "base_uri": "https://localhost:8080/",
          "height": 17
        },
        "id": "9abf6bed",
        "outputId": "9d73424a-993b-421c-f534-e34b474e6fa8"
      },
      "source": [
        "X_tok = tokenizer(X)"
      ],
      "id": "9abf6bed",
      "execution_count": null,
      "outputs": [
        {
          "data": {
            "application/javascript": [
              "google.colab.output.setIframeHeight(0, true, {maxHeight: 2000})"
            ],
            "text/plain": [
              "<IPython.core.display.Javascript object>"
            ]
          },
          "metadata": {},
          "output_type": "display_data"
        },
        {
          "data": {
            "application/javascript": [
              "google.colab.output.setIframeWidth(0, true, {maxWidth: 2000})"
            ],
            "text/plain": [
              "<IPython.core.display.Javascript object>"
            ]
          },
          "metadata": {},
          "output_type": "display_data"
        }
      ]
    },
    {
      "cell_type": "code",
      "metadata": {
        "colab": {
          "base_uri": "https://localhost:8080/",
          "height": 36
        },
        "id": "2aae7856",
        "outputId": "49f9a3d6-8cea-4635-86d3-6b9a94c9249b"
      },
      "source": [
        "X_tok[1][:5]"
      ],
      "id": "2aae7856",
      "execution_count": null,
      "outputs": [
        {
          "data": {
            "application/javascript": [
              "google.colab.output.setIframeHeight(0, true, {maxHeight: 2000})"
            ],
            "text/plain": [
              "<IPython.core.display.Javascript object>"
            ]
          },
          "metadata": {},
          "output_type": "display_data"
        },
        {
          "data": {
            "application/javascript": [
              "google.colab.output.setIframeWidth(0, true, {maxWidth: 2000})"
            ],
            "text/plain": [
              "<IPython.core.display.Javascript object>"
            ]
          },
          "metadata": {},
          "output_type": "display_data"
        },
        {
          "data": {
            "text/plain": [
              "[34, 59, 2, 30, 4]"
            ]
          },
          "execution_count": 31,
          "metadata": {},
          "output_type": "execute_result"
        }
      ]
    },
    {
      "cell_type": "code",
      "metadata": {
        "colab": {
          "base_uri": "https://localhost:8080/",
          "height": 36
        },
        "id": "be2ef2db",
        "outputId": "1928937f-951e-4d14-9935-6ab684c75b9e"
      },
      "source": [
        "word_index['ብ']"
      ],
      "id": "be2ef2db",
      "execution_count": null,
      "outputs": [
        {
          "data": {
            "application/javascript": [
              "google.colab.output.setIframeHeight(0, true, {maxHeight: 2000})"
            ],
            "text/plain": [
              "<IPython.core.display.Javascript object>"
            ]
          },
          "metadata": {},
          "output_type": "display_data"
        },
        {
          "data": {
            "application/javascript": [
              "google.colab.output.setIframeWidth(0, true, {maxWidth: 2000})"
            ],
            "text/plain": [
              "<IPython.core.display.Javascript object>"
            ]
          },
          "metadata": {},
          "output_type": "display_data"
        },
        {
          "data": {
            "text/plain": [
              "4"
            ]
          },
          "execution_count": 32,
          "metadata": {},
          "output_type": "execute_result"
        }
      ]
    },
    {
      "cell_type": "code",
      "metadata": {
        "colab": {
          "base_uri": "https://localhost:8080/",
          "height": 36
        },
        "id": "1ba5afae",
        "outputId": "a56226e7-93d2-4f45-aac0-e808c3aa9efc"
      },
      "source": [
        "# maximum length of tokens in our dataset\n",
        "max([len(X_tok[i]) for i in range(len(X_tok))])"
      ],
      "id": "1ba5afae",
      "execution_count": null,
      "outputs": [
        {
          "data": {
            "application/javascript": [
              "google.colab.output.setIframeHeight(0, true, {maxHeight: 2000})"
            ],
            "text/plain": [
              "<IPython.core.display.Javascript object>"
            ]
          },
          "metadata": {},
          "output_type": "display_data"
        },
        {
          "data": {
            "application/javascript": [
              "google.colab.output.setIframeWidth(0, true, {maxWidth: 2000})"
            ],
            "text/plain": [
              "<IPython.core.display.Javascript object>"
            ]
          },
          "metadata": {},
          "output_type": "display_data"
        },
        {
          "data": {
            "text/plain": [
              "503"
            ]
          },
          "execution_count": 33,
          "metadata": {},
          "output_type": "execute_result"
        }
      ]
    },
    {
      "cell_type": "code",
      "metadata": {
        "colab": {
          "base_uri": "https://localhost:8080/",
          "height": 74
        },
        "id": "23baf32e",
        "outputId": "9357ee6e-eed8-4e58-c9bf-bd74e7de9dcd"
      },
      "source": [
        "# Which sentences is this?\n",
        "# TODO: Should we sort features?\n",
        "for idx, i in enumerate(range(len(X_tok))):\n",
        "    if len(X_tok[i]) == 503:\n",
        "        print(idx)\n",
        "        print(X[idx])"
      ],
      "id": "23baf32e",
      "execution_count": null,
      "outputs": [
        {
          "data": {
            "application/javascript": [
              "google.colab.output.setIframeHeight(0, true, {maxHeight: 2000})"
            ],
            "text/plain": [
              "<IPython.core.display.Javascript object>"
            ]
          },
          "metadata": {},
          "output_type": "display_data"
        },
        {
          "data": {
            "application/javascript": [
              "google.colab.output.setIframeWidth(0, true, {maxWidth: 2000})"
            ],
            "text/plain": [
              "<IPython.core.display.Javascript object>"
            ]
          },
          "metadata": {},
          "output_type": "display_data"
        },
        {
          "name": "stdout",
          "output_type": "stream",
          "text": [
            "12\n",
            "ህዝብታት ዓለም ዝሓለፉዎ ታሪክ ጐንፅታት ሕድሕድ ኣብ ኣህጉርና ኣብ ሃገርና ኢትዮጵያ ኰነ ኣብ ትግራይ ብዓሌት ብዘርኢ ብከባቢ ብብሄር ሓው ምስ ሓው ባእሲ ብነብሲ ምድልላይ ኣተሓሳስባ ድሕረት ጐዳእቲ ባህላዊ ፍፃመታት ካብ ዝበሃሉ ሰብ ንሰብ ብምስዓሩ ብምጕድኡ ወይከዓ ብምቕታሉ መላሲ ደም ፈዳይ ሕነ እናተብሃለ ከም ፍሉይ መለክዒ ጅግንነት ተገይሩ እናተቘፀረሉ ዝነበረ ዘመናት ተዘክሮ ቀረባ እዋን እዩ\n"
          ]
        }
      ]
    },
    {
      "cell_type": "code",
      "metadata": {
        "colab": {
          "base_uri": "https://localhost:8080/",
          "height": 17
        },
        "id": "c621b890",
        "outputId": "de1e5990-55d4-4192-8e00-83b06b9e7aa1"
      },
      "source": [
        "# Pads a single character\n",
        "\n",
        "def pad_seq(l, max_length):\n",
        "    if len(l) == max_length:\n",
        "        return l\n",
        "    elif len(l) < max_length:\n",
        "        return l + [1]*(max_length - len(l))\n",
        "    else:\n",
        "        return l[:max_length]"
      ],
      "id": "c621b890",
      "execution_count": null,
      "outputs": [
        {
          "data": {
            "application/javascript": [
              "google.colab.output.setIframeHeight(0, true, {maxHeight: 2000})"
            ],
            "text/plain": [
              "<IPython.core.display.Javascript object>"
            ]
          },
          "metadata": {},
          "output_type": "display_data"
        },
        {
          "data": {
            "application/javascript": [
              "google.colab.output.setIframeWidth(0, true, {maxWidth: 2000})"
            ],
            "text/plain": [
              "<IPython.core.display.Javascript object>"
            ]
          },
          "metadata": {},
          "output_type": "display_data"
        }
      ]
    },
    {
      "cell_type": "code",
      "metadata": {
        "colab": {
          "base_uri": "https://localhost:8080/",
          "height": 17
        },
        "id": "3901c082",
        "outputId": "f8483c6b-59ba-48b9-8a67-04afa4ea3d9b"
      },
      "source": [
        "# Pads all input sequences\n",
        "\n",
        "def pad_seqs(X, max_length):\n",
        "    res = []\n",
        "    for x in X:\n",
        "        l = np.array(pad_seq(x, max_length))\n",
        "        res.append(l)\n",
        "    return np.array(res)"
      ],
      "id": "3901c082",
      "execution_count": null,
      "outputs": [
        {
          "data": {
            "application/javascript": [
              "google.colab.output.setIframeHeight(0, true, {maxHeight: 2000})"
            ],
            "text/plain": [
              "<IPython.core.display.Javascript object>"
            ]
          },
          "metadata": {},
          "output_type": "display_data"
        },
        {
          "data": {
            "application/javascript": [
              "google.colab.output.setIframeWidth(0, true, {maxWidth: 2000})"
            ],
            "text/plain": [
              "<IPython.core.display.Javascript object>"
            ]
          },
          "metadata": {},
          "output_type": "display_data"
        }
      ]
    },
    {
      "cell_type": "code",
      "metadata": {
        "colab": {
          "base_uri": "https://localhost:8080/",
          "height": 17
        },
        "id": "ecf3033b",
        "outputId": "925678db-02da-4d73-dcf2-1d8153a82020"
      },
      "source": [
        "# check\n",
        "#X_tok_padded = pad_sequences(X_tok, maxlen=max_length, padding=padding_type, truncating=trunc_type)\n",
        "X_tok_padded = pad_seqs(X_tok, max_length=max_length)"
      ],
      "id": "ecf3033b",
      "execution_count": null,
      "outputs": [
        {
          "data": {
            "application/javascript": [
              "google.colab.output.setIframeHeight(0, true, {maxHeight: 2000})"
            ],
            "text/plain": [
              "<IPython.core.display.Javascript object>"
            ]
          },
          "metadata": {},
          "output_type": "display_data"
        },
        {
          "data": {
            "application/javascript": [
              "google.colab.output.setIframeWidth(0, true, {maxWidth: 2000})"
            ],
            "text/plain": [
              "<IPython.core.display.Javascript object>"
            ]
          },
          "metadata": {},
          "output_type": "display_data"
        }
      ]
    },
    {
      "cell_type": "code",
      "metadata": {
        "colab": {
          "base_uri": "https://localhost:8080/",
          "height": 17
        },
        "id": "2bd4cff1",
        "outputId": "63e9334e-a1e7-4d56-8dd0-b0198921784b"
      },
      "source": [
        "#our labels are in Z, L, D but we want a three dimensional vector corresponding to each class\n",
        "from sklearn import preprocessing\n",
        "lb = preprocessing.LabelBinarizer()\n",
        "y_ = lb.fit_transform(y)"
      ],
      "id": "2bd4cff1",
      "execution_count": null,
      "outputs": [
        {
          "data": {
            "application/javascript": [
              "google.colab.output.setIframeHeight(0, true, {maxHeight: 2000})"
            ],
            "text/plain": [
              "<IPython.core.display.Javascript object>"
            ]
          },
          "metadata": {},
          "output_type": "display_data"
        },
        {
          "data": {
            "application/javascript": [
              "google.colab.output.setIframeWidth(0, true, {maxWidth: 2000})"
            ],
            "text/plain": [
              "<IPython.core.display.Javascript object>"
            ]
          },
          "metadata": {},
          "output_type": "display_data"
        }
      ]
    },
    {
      "cell_type": "code",
      "metadata": {
        "colab": {
          "base_uri": "https://localhost:8080/",
          "height": 36
        },
        "id": "b1db0cc2",
        "outputId": "34964ba4-236c-425a-8d50-decbbd4c18bb"
      },
      "source": [
        "print(y[:5])"
      ],
      "id": "b1db0cc2",
      "execution_count": null,
      "outputs": [
        {
          "data": {
            "application/javascript": [
              "google.colab.output.setIframeHeight(0, true, {maxHeight: 2000})"
            ],
            "text/plain": [
              "<IPython.core.display.Javascript object>"
            ]
          },
          "metadata": {},
          "output_type": "display_data"
        },
        {
          "data": {
            "application/javascript": [
              "google.colab.output.setIframeWidth(0, true, {maxWidth: 2000})"
            ],
            "text/plain": [
              "<IPython.core.display.Javascript object>"
            ]
          },
          "metadata": {},
          "output_type": "display_data"
        },
        {
          "name": "stdout",
          "output_type": "stream",
          "text": [
            "['Z', 'L', 'D', 'Z', 'L']\n"
          ]
        }
      ]
    },
    {
      "cell_type": "code",
      "metadata": {
        "colab": {
          "base_uri": "https://localhost:8080/",
          "height": 110
        },
        "id": "b9e4ba61",
        "outputId": "360edc56-d7d5-4e80-c27a-030bb5d2e0dd"
      },
      "source": [
        "print(y_[:5])"
      ],
      "id": "b9e4ba61",
      "execution_count": null,
      "outputs": [
        {
          "data": {
            "application/javascript": [
              "google.colab.output.setIframeHeight(0, true, {maxHeight: 2000})"
            ],
            "text/plain": [
              "<IPython.core.display.Javascript object>"
            ]
          },
          "metadata": {},
          "output_type": "display_data"
        },
        {
          "data": {
            "application/javascript": [
              "google.colab.output.setIframeWidth(0, true, {maxWidth: 2000})"
            ],
            "text/plain": [
              "<IPython.core.display.Javascript object>"
            ]
          },
          "metadata": {},
          "output_type": "display_data"
        },
        {
          "name": "stdout",
          "output_type": "stream",
          "text": [
            "[[0 0 1]\n",
            " [0 1 0]\n",
            " [1 0 0]\n",
            " [0 0 1]\n",
            " [0 1 0]]\n"
          ]
        }
      ]
    },
    {
      "cell_type": "code",
      "metadata": {
        "colab": {
          "base_uri": "https://localhost:8080/",
          "height": 128
        },
        "id": "c559864c",
        "outputId": "24d8847e-17fa-4266-fd67-b13fe59d4990"
      },
      "source": [
        "from sklearn.model_selection import train_test_split\n",
        "X_train, X_test, y_train, y_test = train_test_split(X_tok_padded, y_, test_size=0.2, random_state=42)\n",
        "\n",
        "print(len(X))\n",
        "print(len(y))\n",
        "\n",
        "print(len(X_train), len(y_train))\n",
        "print(len(X_test), len(y_test))\n",
        "\n",
        "print('Train shape:',X_train.shape)\n",
        "print('Test shape:',X_test.shape)"
      ],
      "id": "c559864c",
      "execution_count": null,
      "outputs": [
        {
          "data": {
            "application/javascript": [
              "google.colab.output.setIframeHeight(0, true, {maxHeight: 2000})"
            ],
            "text/plain": [
              "<IPython.core.display.Javascript object>"
            ]
          },
          "metadata": {},
          "output_type": "display_data"
        },
        {
          "data": {
            "application/javascript": [
              "google.colab.output.setIframeWidth(0, true, {maxWidth: 2000})"
            ],
            "text/plain": [
              "<IPython.core.display.Javascript object>"
            ]
          },
          "metadata": {},
          "output_type": "display_data"
        },
        {
          "name": "stdout",
          "output_type": "stream",
          "text": [
            "7971\n",
            "7971\n",
            "6376 6376\n",
            "1595 1595\n",
            "Train shape: (6376, 500)\n",
            "Test shape: (1595, 500)\n"
          ]
        }
      ]
    },
    {
      "cell_type": "code",
      "metadata": {
        "colab": {
          "base_uri": "https://localhost:8080/",
          "height": 36
        },
        "id": "a46961eb",
        "outputId": "1ddce9bd-e3ca-4935-a4c9-cfe9ad7a5110"
      },
      "source": [
        "len(tokenizer([X[0]])[0])"
      ],
      "id": "a46961eb",
      "execution_count": null,
      "outputs": [
        {
          "data": {
            "application/javascript": [
              "google.colab.output.setIframeHeight(0, true, {maxHeight: 2000})"
            ],
            "text/plain": [
              "<IPython.core.display.Javascript object>"
            ]
          },
          "metadata": {},
          "output_type": "display_data"
        },
        {
          "data": {
            "application/javascript": [
              "google.colab.output.setIframeWidth(0, true, {maxWidth: 2000})"
            ],
            "text/plain": [
              "<IPython.core.display.Javascript object>"
            ]
          },
          "metadata": {},
          "output_type": "display_data"
        },
        {
          "data": {
            "text/plain": [
              "223"
            ]
          },
          "execution_count": 42,
          "metadata": {},
          "output_type": "execute_result"
        }
      ]
    },
    {
      "cell_type": "code",
      "metadata": {
        "colab": {
          "base_uri": "https://localhost:8080/",
          "height": 166
        },
        "id": "e44c0d87",
        "outputId": "439fc535-7138-44a1-85c9-29d925c0b631"
      },
      "source": [
        "X_train[0][:100]"
      ],
      "id": "e44c0d87",
      "execution_count": null,
      "outputs": [
        {
          "data": {
            "application/javascript": [
              "google.colab.output.setIframeHeight(0, true, {maxHeight: 2000})"
            ],
            "text/plain": [
              "<IPython.core.display.Javascript object>"
            ]
          },
          "metadata": {},
          "output_type": "display_data"
        },
        {
          "data": {
            "application/javascript": [
              "google.colab.output.setIframeWidth(0, true, {maxWidth: 2000})"
            ],
            "text/plain": [
              "<IPython.core.display.Javascript object>"
            ]
          },
          "metadata": {},
          "output_type": "display_data"
        },
        {
          "data": {
            "text/plain": [
              "array([  4,  21,  23,   2,  74,  71,   9,  58,   2,  11,   7,   6,  27,\n",
              "        79,   2,  11,   7,  23,   9,  25,   2,  11,   7,  51,   9,   6,\n",
              "        28,   2,   6,   9,  94, 106,   2,  26,  59,   2,   9,   6,  28,\n",
              "         3,   2,  31,   6,  20,   3,   2,  26,  59,   2,   4,   8,  21,\n",
              "         6,   3,   2,   4,  13,  12,   6,   3,   2,  26,  59,   2,  31,\n",
              "         8,  74,   6,   2,  26,  59,   2,  51,  23,   2,  26,  59,   2,\n",
              "       117,  73,  77,   2,  26,  59,   2,  21,  84,   2,  26,  59,   2,\n",
              "        11,   5,  17,   6,   7,   2,  46,   7,  26])"
            ]
          },
          "execution_count": 43,
          "metadata": {},
          "output_type": "execute_result"
        }
      ]
    },
    {
      "cell_type": "markdown",
      "metadata": {
        "id": "210fd643"
      },
      "source": [
        "# BI-LSTM Reference\n",
        "\n",
        "François Chollet.(2020/05/03). Bidirectional LSTM on IMDB. Retrieved 30 August 2021, from: https://keras.io/examples/nlp/bidirectional_lstm_imdb/"
      ],
      "id": "210fd643"
    },
    {
      "cell_type": "code",
      "metadata": {
        "id": "4c4ec482"
      },
      "source": [
        "# create a Bi-LSTM model\n",
        "from tensorflow.keras import regularizers\n",
        "def BiLSTM_model(drop_out,filter_one,recurrent_dropout,filter_two, batch_size,learning_rate,last_dense, padding, num_epochs):\n",
        "    model = tf.keras.Sequential([\n",
        "        # Add an Embedding layer expecting input vocab of size 20000,\n",
        "        # and output embedding dimension of size 64 we set at the top\n",
        "        tf.keras.layers.Embedding(max_features+2,embedding_dim,input_shape=(max_length,)),\n",
        "        #To add Bidirectional layers sequencially, use return_sequences=True\n",
        "\n",
        "        tf.keras.layers.Bidirectional(tf.keras.layers.LSTM(filter_one,return_sequences=True)),\n",
        "        #tf.keras.layers.Bidirectional(tf.keras.layers.LSTM(filter_one,return_sequences=True)),\n",
        "        tf.keras.layers.Dropout(drop_out),\n",
        "\n",
        "        # use ReLU in place of tanh function since they are very good alternatives of each other.\n",
        "        #tf.keras.layers.Dense(last_dense, activation='relu'), #Check with and without this layer\n",
        "\n",
        "        tf.keras.layers.Bidirectional(tf.keras.layers.LSTM(filter_two)),\n",
        "        tf.keras.layers.Dropout(drop_out),\n",
        "\n",
        "\n",
        "        tf.keras.layers.Dense(last_dense, activation='relu',kernel_regularizer=regularizers.l1(0.01)),\n",
        "        #tf.keras.layers.MaxPool1D(),\n",
        "        # Add a Dense layer with 3 units and softmax activation.\n",
        "        # We have three outputs, softmax converts output layers into a probability distribution.\n",
        "        tf.keras.layers.Dense(num_classes, activation='softmax')\n",
        "    ])\n",
        "    model.summary()\n",
        "\n",
        "    model.compile(loss='categorical_crossentropy', optimizer='adam', metrics=['accuracy'])\n",
        "    #Drow the BiLSTM Neural Network architecture\n",
        "\n",
        "    plot_model(model, to_file='./BiLSTM_model_plot.png', show_shapes=True, show_layer_names=True)\n",
        "\n",
        "\n",
        "    # simple early stopping\n",
        "\n",
        "    es = EarlyStopping(monitor='val_loss', mode='min', verbose=1, patience=10)\n",
        "\n",
        "    # Add Checkpointing\n",
        "\n",
        "    checkpointer = ModelCheckpoint(filepath='./best_BiLSTM_checkpoint.hdf5',\n",
        "                                   verbose=1,\n",
        "                                   save_best_only=True,\n",
        "                                   save_weights_only=False,\n",
        "                                   monitor='val_accuracy',\n",
        "                                   mode='max',\n",
        "                                   save_freq=\"epoch\")\n",
        "    # Model weights are saved at the end of every epoch, if it's the best seen so far\n",
        "    history = model.fit(X_train, y_train, epochs=num_epochs,validation_data=(X_test, y_test), verbose=2,callbacks=[checkpointer])\n",
        "\n",
        "    # Evaluate the model on the test data (this is for testing time, with the testing dataset)\n",
        "    # Returns the loss value & metrics values for the model in test mode.\n",
        "\n",
        "    print('\\n')\n",
        "    print(\"Evaluate on test data\",'\\n')\n",
        "    results = model.evaluate(X_test, y_test, batch_size=64)\n",
        "    print(\"Test Loss:\",results[0])\n",
        "    print(\"Test Accuracy:\",results[1])\n",
        "\n",
        "    # Generate output predictions for the input samples(probabilities -the output of the last layer) on new data\n",
        "    # (this is for somewhere between training and testing time).\n",
        "    # Use this model to do some feed-forward passes to predict novel inputs.\n",
        "\n",
        "    print('\\n')\n",
        "    #assert np.allclose(model.predict(X_test), loaded_model.predict(X_test))\n",
        "    predictions = model.predict(X_test)\n",
        "    print(\"predictions shape:\", predictions.shape)\n",
        "    y_pred = (predictions)\n",
        "\n",
        "    #Creating a confusion matrix,which compares the y_test and y_pred\n",
        "    #Note The support column in classification_report is:\n",
        "    #the number of occurrences of each class in y_test.It shows testset distribution\n",
        "    # Plotting training and validation loss graph\n",
        "\n",
        "    results = pd.DataFrame(\n",
        "    confusion_matrix( y_test.argmax(axis=1), y_pred.argmax(axis=1)),\n",
        "    index=['D', 'L', 'Z'],\n",
        "    columns=['D', 'L', 'Z'])\n",
        "\n",
        "    print('-'*80,'\\n')\n",
        "    print('Confusion Matrix of BiLSTM Model', '\\n')\n",
        "    print(results,'\\n')\n",
        "\n",
        "    print('Classification Report : ','\\n')\n",
        "    target_names = ['D-variety', 'L-variety', 'Z-variety']\n",
        "    print (classification_report(y_test.argmax(axis=1),y_pred.argmax(axis=1),target_names=target_names),'\\n')\n",
        "\n",
        "   # Plotting training and validation loss graph\n",
        "    print(\"Plotting Loss and Accuracy Graphs\",'\\n')\n",
        "    plt.plot(history.history['loss'], label='train loss')\n",
        "    plt.plot(history.history['val_loss'], label='val loss')\n",
        "    plt.title('Model Loss')\n",
        "    plt.ylabel('Loss')\n",
        "    plt.xlabel('epoch')\n",
        "    plt.legend()\n",
        "    plt.show()\n",
        "\n",
        "    # Plotting training and validation Accuracy graph\n",
        "    plt.plot(history.history['accuracy'], label='train acc')\n",
        "    plt.plot(history.history['val_accuracy'], label='val acc')\n",
        "    plt.title('Model Accuracy')\n",
        "    plt.ylabel('accuracy')\n",
        "    plt.xlabel('epoch')\n",
        "    plt.legend()\n",
        "    plt.show()\n",
        "\n",
        "    return history.history"
      ],
      "id": "4c4ec482",
      "execution_count": null,
      "outputs": []
    },
    {
      "cell_type": "code",
      "metadata": {
        "colab": {
          "base_uri": "https://localhost:8080/",
          "height": 229
        },
        "id": "noxXgZYwKejg",
        "outputId": "9c74cb62-6504-4b8a-f57f-0c79c2cdaa1c"
      },
      "source": [
        "max_features = max_features\n",
        "embedding_dim = 64\n",
        "BiLSTM_model(drop_out=0.6,recurrent_dropout=0.4,filter_one=64, filter_two=64, batch_size=1024,learning_rate=1e-1,last_dense=64, padding=\"same\",num_epochs=60)"
      ],
      "id": "noxXgZYwKejg",
      "execution_count": null,
      "outputs": [
        {
          "ename": "NameError",
          "evalue": "ignored",
          "output_type": "error",
          "traceback": [
            "\u001b[0;31m---------------------------------------------------------------------------\u001b[0m",
            "\u001b[0;31mNameError\u001b[0m                                 Traceback (most recent call last)",
            "\u001b[0;32m<ipython-input-4-dc48c482ddc5>\u001b[0m in \u001b[0;36m<module>\u001b[0;34m()\u001b[0m\n\u001b[0;32m----> 1\u001b[0;31m \u001b[0mmax_features\u001b[0m \u001b[0;34m=\u001b[0m \u001b[0mmax_features\u001b[0m\u001b[0;34m\u001b[0m\u001b[0;34m\u001b[0m\u001b[0m\n\u001b[0m\u001b[1;32m      2\u001b[0m \u001b[0membedding_dim\u001b[0m \u001b[0;34m=\u001b[0m \u001b[0;36m64\u001b[0m\u001b[0;34m\u001b[0m\u001b[0;34m\u001b[0m\u001b[0m\n\u001b[1;32m      3\u001b[0m \u001b[0mBiLSTM_model\u001b[0m\u001b[0;34m(\u001b[0m\u001b[0mdrop_out\u001b[0m\u001b[0;34m=\u001b[0m\u001b[0;36m0.6\u001b[0m\u001b[0;34m,\u001b[0m\u001b[0mrecurrent_dropout\u001b[0m\u001b[0;34m=\u001b[0m\u001b[0;36m0.4\u001b[0m\u001b[0;34m,\u001b[0m\u001b[0mfilter_one\u001b[0m\u001b[0;34m=\u001b[0m\u001b[0;36m64\u001b[0m\u001b[0;34m,\u001b[0m \u001b[0mfilter_two\u001b[0m\u001b[0;34m=\u001b[0m\u001b[0;36m64\u001b[0m\u001b[0;34m,\u001b[0m \u001b[0mbatch_size\u001b[0m\u001b[0;34m=\u001b[0m\u001b[0;36m1024\u001b[0m\u001b[0;34m,\u001b[0m\u001b[0mlearning_rate\u001b[0m\u001b[0;34m=\u001b[0m\u001b[0;36m1e-1\u001b[0m\u001b[0;34m,\u001b[0m\u001b[0mlast_dense\u001b[0m\u001b[0;34m=\u001b[0m\u001b[0;36m64\u001b[0m\u001b[0;34m,\u001b[0m \u001b[0mpadding\u001b[0m\u001b[0;34m=\u001b[0m\u001b[0;34m\"same\"\u001b[0m\u001b[0;34m,\u001b[0m\u001b[0mnum_epochs\u001b[0m\u001b[0;34m=\u001b[0m\u001b[0;36m60\u001b[0m\u001b[0;34m)\u001b[0m\u001b[0;34m\u001b[0m\u001b[0;34m\u001b[0m\u001b[0m\n",
            "\u001b[0;31mNameError\u001b[0m: name 'max_features' is not defined"
          ]
        }
      ]
    },
    {
      "cell_type": "markdown",
      "metadata": {
        "id": "415abf1a"
      },
      "source": [
        "# CNN  Model Reference\n",
        "\n",
        "Mark Omernick, Francois Chollet. (2019). Text classification from scratch. Retrieved on 30 August 2021, from: https://keras.io/examples/nlp/text_classification_from_scratch/"
      ],
      "id": "415abf1a"
    },
    {
      "cell_type": "markdown",
      "metadata": {
        "id": "zVLd0EfbtXot"
      },
      "source": [],
      "id": "zVLd0EfbtXot"
    },
    {
      "cell_type": "code",
      "metadata": {
        "colab": {
          "base_uri": "https://localhost:8080/",
          "height": 17
        },
        "id": "37251a69",
        "outputId": "12c60ed1-b8c3-4eac-ed87-7b3e60bf362e"
      },
      "source": [
        "#Create CNN Function to use the keras model in the scikit-learn wrapping class KerasClassifier\n",
        "#To use this wrapper we must define a function that creates and returns your Keras sequential model,\n",
        "\n",
        "from sklearn.model_selection import RandomizedSearchCV\n",
        "from keras.utils.vis_utils import plot_model\n",
        "def cnn_model(drop_out, filter_one,last_dense, learning_rate,padding,num_epochs):\n",
        "    # create a CNN model\n",
        "    model = tf.keras.Sequential([\n",
        "        # Add an Embedding layer expecting input vocab of size 20000, and output embedding dimension of size 64 we set at the top\n",
        "        tf.keras.layers.Embedding(max_features+2,embedding_dim,input_shape=(500,)),\n",
        "\n",
        "        # use ReLU in place of tanh function since they are very good alternatives of each other\n",
        "        tf.keras.layers.Conv1D(filters=128, kernel_size=3,padding=padding,activation='relu'),\n",
        "        tf.keras.layers.Dropout(drop_out),\n",
        "\n",
        "        # Conv1D + global max pooling\n",
        "        tf.keras.layers.Conv1D(filters=64, kernel_size=3,padding=padding,activation='relu'),\n",
        "        tf.keras.layers.GlobalMaxPool1D(),\n",
        "        tf.keras.layers.Dropout(drop_out),\n",
        "\n",
        "\n",
        "        # Add a vanilla hidden layer\n",
        "        tf.keras.layers.Dense(last_dense,activation='relu',kernel_regularizer=regularizers.l2(0.01)),\n",
        "\n",
        "        # Add a Dense layer with 3 units since the output should be three(no. Classes)\n",
        "        # When we have multiple outputs, softmax convert outputs layers into a probability distribution.\n",
        "        tf.keras.layers.Dense(num_classes, activation='softmax')\n",
        "    ])\n",
        "    #model.get_weights()\n",
        "    #model.count_params()\n",
        "    model.summary()\n",
        "\n",
        "    # Decide a model architecture, this is the number of hidden layers and activation functions, etc.\n",
        "\n",
        "    model.compile(loss='categorical_crossentropy', optimizer='adam', metrics=['accuracy'])\n",
        "    plot_model(model, to_file='./CNN_model_plot.png', show_shapes=True, show_layer_names=True)\n",
        "\n",
        "    # Train the model for a given number of epochs(this is for training time, with the training dataset).\n",
        "    # Train our model to get all the paramters to the correct value to map our inputs to our outputs.\n",
        "\n",
        "    # simple early stopping\n",
        "\n",
        "    es = EarlyStopping(monitor='val_loss', mode='min', verbose=1, patience=10)\n",
        "\n",
        "    #an epoch is one learning cycle where the learner sees the whole training data set.\n",
        "    checkpointer = ModelCheckpoint(filepath='./best_CNN_checkpoint.hdf5',\n",
        "                                   verbose=1,\n",
        "                                   save_best_only=True,\n",
        "                                   save_weights_only=False,\n",
        "                                   monitor='val_accuracy',\n",
        "                                   mode='max',\n",
        "                                   save_freq=\"epoch\")\n",
        "\n",
        "    history = model.fit(X_train, y_train, epochs=num_epochs,validation_data=(X_test, y_test), verbose=2,callbacks=[checkpointer,es])\n",
        "\n",
        "    # Evaluate the model on the test data (this is for testing time, with the testing dataset)\n",
        "    # Returns the loss value & metrics values for the model in test mode.\n",
        "    # we can’t pass the entire dataset into the neural net at once.\n",
        "    # So, we divide the dataset into Number of Batches or sets or parts.\n",
        "    print('\\n')\n",
        "    print(\"Evaluate on test data\",'\\n')\n",
        "    results = model.evaluate(X_test, y_test, batch_size=64)\n",
        "    print(\"Test Loss:\",results[0])\n",
        "    print(\"Test Accuracy:\",results[1])\n",
        "\n",
        "    # Generate output predictions for the input samples(probabilities -the output of the last layer) on new data\n",
        "    # (this is for somewhere between training and testing time).\n",
        "    # Use this model to do some feed-forward passes to predict novel inputs.\n",
        "\n",
        "    print('\\n')\n",
        "    predictions = model.predict(X_test)\n",
        "    print(\"predictions shape:\", predictions.shape)\n",
        "    y_pred = (predictions)\n",
        "\n",
        "    #Creating a confusion matrix,which compares the y_test and y_pred\n",
        "    #Note The support column in classification_report is:\n",
        "    #the number of occurrences of each class in y_test.It shows testset distribution\n",
        "    # Plotting training and validation loss graph\n",
        "\n",
        "    results = pd.DataFrame(\n",
        "    confusion_matrix( y_test.argmax(axis=1), y_pred.argmax(axis=1)),\n",
        "    index=['D', 'L', 'Z'],\n",
        "    columns=['D', 'L', 'Z'])\n",
        "\n",
        "    print('-'*80,'\\n')\n",
        "    print('Confusion Matrix of CNN Model', '\\n')\n",
        "    print(results,'\\n')\n",
        "\n",
        "    print('Classification Report : ','\\n')\n",
        "    target_names = ['D-variety', 'L-variety', 'Z-variety']\n",
        "    print (classification_report(y_test.argmax(axis=1),y_pred.argmax(axis=1),target_names=target_names),'\\n')\n",
        "\n",
        "   # Plotting training and validation loss graph\n",
        "    print(\"Plotting Loss and Accuracy Graphs\",'\\n')\n",
        "    plt.plot(history.history['loss'], label='train loss')\n",
        "    plt.plot(history.history['val_loss'], label='val loss')\n",
        "    plt.title('Model Loss')\n",
        "    plt.ylabel('Loss')\n",
        "    plt.xlabel('epoch')\n",
        "    plt.legend()\n",
        "    plt.show()\n",
        "\n",
        "    # Plotting training and validation Accuracy graph\n",
        "    plt.plot(history.history['accuracy'], label='train acc')\n",
        "    plt.plot(history.history['val_accuracy'], label='val acc')\n",
        "    plt.title('Model Accuracy')\n",
        "    plt.ylabel('accuracy')\n",
        "    plt.xlabel('epoch')\n",
        "    plt.legend()\n",
        "    plt.show()\n",
        "\n",
        "    return history.history"
      ],
      "id": "37251a69",
      "execution_count": null,
      "outputs": [
        {
          "output_type": "display_data",
          "data": {
            "application/javascript": [
              "google.colab.output.setIframeHeight(0, true, {maxHeight: 2000})"
            ],
            "text/plain": [
              "<IPython.core.display.Javascript object>"
            ]
          },
          "metadata": {}
        },
        {
          "output_type": "display_data",
          "data": {
            "application/javascript": [
              "google.colab.output.setIframeWidth(0, true, {maxWidth: 2000})"
            ],
            "text/plain": [
              "<IPython.core.display.Javascript object>"
            ]
          },
          "metadata": {}
        }
      ]
    },
    {
      "cell_type": "code",
      "metadata": {
        "colab": {
          "base_uri": "https://localhost:8080/",
          "height": 1000
        },
        "id": "jgtbwzVMNDJt",
        "outputId": "842bc168-d2e9-4b13-a3d1-e6a9b0611654"
      },
      "source": [
        "max_features = max_features\n",
        "embedding_dim = 64\n",
        "cnn_model(drop_out=0.4, filter_one=64, filter_two=128,last_dense=64, padding='same',learning_rate=1e-4, num_epochs=60)"
      ],
      "id": "jgtbwzVMNDJt",
      "execution_count": null,
      "outputs": [
        {
          "name": "stdout",
          "output_type": "stream",
          "text": [
            "Model: \"sequential_1\"\n",
            "_________________________________________________________________\n",
            "Layer (type)                 Output Shape              Param #   \n",
            "=================================================================\n",
            "embedding_1 (Embedding)      (None, 500, 64)           1280128   \n",
            "_________________________________________________________________\n",
            "conv1d_2 (Conv1D)            (None, 500, 128)          24704     \n",
            "_________________________________________________________________\n",
            "dropout_2 (Dropout)          (None, 500, 128)          0         \n",
            "_________________________________________________________________\n",
            "conv1d_3 (Conv1D)            (None, 500, 64)           24640     \n",
            "_________________________________________________________________\n",
            "global_max_pooling1d_1 (Glob (None, 64)                0         \n",
            "_________________________________________________________________\n",
            "dropout_3 (Dropout)          (None, 64)                0         \n",
            "_________________________________________________________________\n",
            "dense_2 (Dense)              (None, 64)                4160      \n",
            "_________________________________________________________________\n",
            "dense_3 (Dense)              (None, 3)                 195       \n",
            "=================================================================\n",
            "Total params: 1,333,827\n",
            "Trainable params: 1,333,827\n",
            "Non-trainable params: 0\n",
            "_________________________________________________________________\n",
            "Epoch 1/60\n",
            "200/200 - 4s - loss: 1.1554 - accuracy: 0.5163 - val_loss: 0.6004 - val_accuracy: 0.7668\n",
            "\n",
            "Epoch 00001: val_accuracy improved from -inf to 0.76677, saving model to ./best_CNN_checkpoint.hdf5\n",
            "Epoch 2/60\n",
            "200/200 - 3s - loss: 0.5010 - accuracy: 0.8167 - val_loss: 0.3854 - val_accuracy: 0.8665\n",
            "\n",
            "Epoch 00002: val_accuracy improved from 0.76677 to 0.86646, saving model to ./best_CNN_checkpoint.hdf5\n",
            "Epoch 3/60\n",
            "200/200 - 3s - loss: 0.3728 - accuracy: 0.8645 - val_loss: 0.3342 - val_accuracy: 0.8846\n",
            "\n",
            "Epoch 00003: val_accuracy improved from 0.86646 to 0.88464, saving model to ./best_CNN_checkpoint.hdf5\n",
            "Epoch 4/60\n",
            "200/200 - 3s - loss: 0.3173 - accuracy: 0.8852 - val_loss: 0.3168 - val_accuracy: 0.8771\n",
            "\n",
            "Epoch 00004: val_accuracy did not improve from 0.88464\n",
            "Epoch 5/60\n",
            "200/200 - 3s - loss: 0.2915 - accuracy: 0.8963 - val_loss: 0.2832 - val_accuracy: 0.8959\n",
            "\n",
            "Epoch 00005: val_accuracy improved from 0.88464 to 0.89592, saving model to ./best_CNN_checkpoint.hdf5\n",
            "Epoch 6/60\n",
            "200/200 - 3s - loss: 0.2726 - accuracy: 0.9007 - val_loss: 0.2846 - val_accuracy: 0.8922\n",
            "\n",
            "Epoch 00006: val_accuracy did not improve from 0.89592\n",
            "Epoch 7/60\n",
            "200/200 - 3s - loss: 0.2554 - accuracy: 0.9068 - val_loss: 0.2717 - val_accuracy: 0.8915\n",
            "\n",
            "Epoch 00007: val_accuracy did not improve from 0.89592\n",
            "Epoch 8/60\n",
            "200/200 - 3s - loss: 0.2360 - accuracy: 0.9156 - val_loss: 0.2724 - val_accuracy: 0.9028\n",
            "\n",
            "Epoch 00008: val_accuracy improved from 0.89592 to 0.90282, saving model to ./best_CNN_checkpoint.hdf5\n",
            "Epoch 9/60\n",
            "200/200 - 3s - loss: 0.2268 - accuracy: 0.9221 - val_loss: 0.2658 - val_accuracy: 0.9034\n",
            "\n",
            "Epoch 00009: val_accuracy improved from 0.90282 to 0.90345, saving model to ./best_CNN_checkpoint.hdf5\n",
            "Epoch 10/60\n",
            "200/200 - 3s - loss: 0.2214 - accuracy: 0.9217 - val_loss: 0.2606 - val_accuracy: 0.8953\n",
            "\n",
            "Epoch 00010: val_accuracy did not improve from 0.90345\n",
            "Epoch 11/60\n",
            "200/200 - 3s - loss: 0.2092 - accuracy: 0.9241 - val_loss: 0.2551 - val_accuracy: 0.9047\n",
            "\n",
            "Epoch 00011: val_accuracy improved from 0.90345 to 0.90470, saving model to ./best_CNN_checkpoint.hdf5\n",
            "Epoch 12/60\n",
            "200/200 - 3s - loss: 0.2084 - accuracy: 0.9235 - val_loss: 0.2561 - val_accuracy: 0.9003\n",
            "\n",
            "Epoch 00012: val_accuracy did not improve from 0.90470\n",
            "Epoch 13/60\n",
            "200/200 - 3s - loss: 0.1943 - accuracy: 0.9269 - val_loss: 0.2489 - val_accuracy: 0.9034\n",
            "\n",
            "Epoch 00013: val_accuracy did not improve from 0.90470\n",
            "Epoch 14/60\n",
            "200/200 - 3s - loss: 0.1918 - accuracy: 0.9305 - val_loss: 0.2443 - val_accuracy: 0.8991\n",
            "\n",
            "Epoch 00014: val_accuracy did not improve from 0.90470\n",
            "Epoch 15/60\n",
            "200/200 - 3s - loss: 0.1857 - accuracy: 0.9326 - val_loss: 0.2415 - val_accuracy: 0.9141\n",
            "\n",
            "Epoch 00015: val_accuracy improved from 0.90470 to 0.91411, saving model to ./best_CNN_checkpoint.hdf5\n",
            "Epoch 16/60\n",
            "200/200 - 3s - loss: 0.1809 - accuracy: 0.9348 - val_loss: 0.2503 - val_accuracy: 0.9028\n",
            "\n",
            "Epoch 00016: val_accuracy did not improve from 0.91411\n",
            "Epoch 17/60\n",
            "200/200 - 3s - loss: 0.1765 - accuracy: 0.9351 - val_loss: 0.2415 - val_accuracy: 0.9116\n",
            "\n",
            "Epoch 00017: val_accuracy did not improve from 0.91411\n",
            "Epoch 18/60\n",
            "200/200 - 3s - loss: 0.1684 - accuracy: 0.9385 - val_loss: 0.2568 - val_accuracy: 0.8991\n",
            "\n",
            "Epoch 00018: val_accuracy did not improve from 0.91411\n",
            "Epoch 19/60\n",
            "200/200 - 3s - loss: 0.1784 - accuracy: 0.9362 - val_loss: 0.2423 - val_accuracy: 0.9091\n",
            "\n",
            "Epoch 00019: val_accuracy did not improve from 0.91411\n",
            "Epoch 20/60\n",
            "200/200 - 3s - loss: 0.1702 - accuracy: 0.9346 - val_loss: 0.2385 - val_accuracy: 0.9041\n",
            "\n",
            "Epoch 00020: val_accuracy did not improve from 0.91411\n",
            "Epoch 21/60\n",
            "200/200 - 3s - loss: 0.1666 - accuracy: 0.9399 - val_loss: 0.2455 - val_accuracy: 0.9016\n",
            "\n",
            "Epoch 00021: val_accuracy did not improve from 0.91411\n",
            "Epoch 22/60\n",
            "200/200 - 3s - loss: 0.1577 - accuracy: 0.9407 - val_loss: 0.2614 - val_accuracy: 0.8991\n",
            "\n",
            "Epoch 00022: val_accuracy did not improve from 0.91411\n",
            "Epoch 23/60\n",
            "200/200 - 3s - loss: 0.1577 - accuracy: 0.9439 - val_loss: 0.2579 - val_accuracy: 0.9016\n",
            "\n",
            "Epoch 00023: val_accuracy did not improve from 0.91411\n",
            "Epoch 24/60\n",
            "200/200 - 3s - loss: 0.1519 - accuracy: 0.9445 - val_loss: 0.2503 - val_accuracy: 0.9034\n",
            "\n",
            "Epoch 00024: val_accuracy did not improve from 0.91411\n",
            "Epoch 25/60\n",
            "200/200 - 3s - loss: 0.1518 - accuracy: 0.9446 - val_loss: 0.2414 - val_accuracy: 0.9060\n",
            "\n",
            "Epoch 00025: val_accuracy did not improve from 0.91411\n",
            "Epoch 26/60\n",
            "200/200 - 3s - loss: 0.1484 - accuracy: 0.9432 - val_loss: 0.2357 - val_accuracy: 0.9103\n",
            "\n",
            "Epoch 00026: val_accuracy did not improve from 0.91411\n",
            "Epoch 27/60\n",
            "200/200 - 3s - loss: 0.1392 - accuracy: 0.9501 - val_loss: 0.2285 - val_accuracy: 0.9110\n",
            "\n",
            "Epoch 00027: val_accuracy did not improve from 0.91411\n",
            "Epoch 28/60\n",
            "200/200 - 3s - loss: 0.1481 - accuracy: 0.9435 - val_loss: 0.2414 - val_accuracy: 0.9179\n",
            "\n",
            "Epoch 00028: val_accuracy improved from 0.91411 to 0.91787, saving model to ./best_CNN_checkpoint.hdf5\n",
            "Epoch 29/60\n",
            "200/200 - 3s - loss: 0.1367 - accuracy: 0.9495 - val_loss: 0.2317 - val_accuracy: 0.9129\n",
            "\n",
            "Epoch 00029: val_accuracy did not improve from 0.91787\n",
            "Epoch 30/60\n",
            "200/200 - 3s - loss: 0.1374 - accuracy: 0.9495 - val_loss: 0.2398 - val_accuracy: 0.9097\n",
            "\n",
            "Epoch 00030: val_accuracy did not improve from 0.91787\n",
            "Epoch 31/60\n",
            "200/200 - 3s - loss: 0.1332 - accuracy: 0.9545 - val_loss: 0.2652 - val_accuracy: 0.9028\n",
            "\n",
            "Epoch 00031: val_accuracy did not improve from 0.91787\n",
            "Epoch 32/60\n",
            "200/200 - 3s - loss: 0.1373 - accuracy: 0.9503 - val_loss: 0.2402 - val_accuracy: 0.9078\n",
            "\n",
            "Epoch 00032: val_accuracy did not improve from 0.91787\n",
            "Epoch 33/60\n",
            "200/200 - 3s - loss: 0.1305 - accuracy: 0.9526 - val_loss: 0.2547 - val_accuracy: 0.9053\n",
            "\n",
            "Epoch 00033: val_accuracy did not improve from 0.91787\n",
            "Epoch 34/60\n",
            "200/200 - 3s - loss: 0.1243 - accuracy: 0.9570 - val_loss: 0.2545 - val_accuracy: 0.9110\n",
            "\n",
            "Epoch 00034: val_accuracy did not improve from 0.91787\n",
            "Epoch 35/60\n",
            "200/200 - 3s - loss: 0.1256 - accuracy: 0.9548 - val_loss: 0.2469 - val_accuracy: 0.9085\n",
            "\n",
            "Epoch 00035: val_accuracy did not improve from 0.91787\n",
            "Epoch 36/60\n",
            "200/200 - 3s - loss: 0.1321 - accuracy: 0.9514 - val_loss: 0.2393 - val_accuracy: 0.9210\n",
            "\n",
            "Epoch 00036: val_accuracy improved from 0.91787 to 0.92100, saving model to ./best_CNN_checkpoint.hdf5\n",
            "Epoch 37/60\n",
            "200/200 - 3s - loss: 0.1235 - accuracy: 0.9539 - val_loss: 0.2478 - val_accuracy: 0.9072\n",
            "\n",
            "Epoch 00037: val_accuracy did not improve from 0.92100\n",
            "Epoch 00037: early stopping\n",
            "\n",
            "\n",
            "Evaluate on test data \n",
            "\n",
            "25/25 [==============================] - 0s 10ms/step - loss: 0.2478 - accuracy: 0.9072\n",
            "Test Loss: 0.2477746456861496\n",
            "Test Accuracy: 0.9072100520133972\n",
            "\n",
            "\n",
            "predictions shape: (1595, 3)\n",
            "-------------------------------------------------------------------------------- \n",
            "\n",
            "Confusion Matrix of CNN Model \n",
            "\n",
            "     D    L    Z\n",
            "D  545   22    9\n",
            "L   30  425   46\n",
            "Z   20   21  477 \n",
            "\n",
            "Classification Report :  \n",
            "\n",
            "              precision    recall  f1-score   support\n",
            "\n",
            "   D-variety       0.92      0.95      0.93       576\n",
            "   L-variety       0.91      0.85      0.88       501\n",
            "   Z-variety       0.90      0.92      0.91       518\n",
            "\n",
            "    accuracy                           0.91      1595\n",
            "   macro avg       0.91      0.91      0.91      1595\n",
            "weighted avg       0.91      0.91      0.91      1595\n",
            " \n",
            "\n",
            "Plotting Loss and Accuracy Graphs \n",
            "\n"
          ]
        },
        {
          "data": {
            "image/png": "[encoded data removed]",
            "text/plain": [
              "<Figure size 432x288 with 1 Axes>"
            ]
          },
          "metadata": {},
          "output_type": "display_data"
        },
        {
          "data": {
            "image/png": "[encoded data removed]",
            "text/plain": [
              "<Figure size 432x288 with 1 Axes>"
            ]
          },
          "metadata": {},
          "output_type": "display_data"
        },
        {
          "data": {
            "text/plain": [
              "{'accuracy': [0.5163111686706543,\n",
              "  0.816656231880188,\n",
              "  0.8644918203353882,\n",
              "  0.8851944804191589,\n",
              "  0.8963299989700317,\n",
              "  0.9007214307785034,\n",
              "  0.9068381190299988,\n",
              "  0.9156211018562317,\n",
              "  0.9220514297485352,\n",
              "  0.921737790107727,\n",
              "  0.9240903258323669,\n",
              "  0.923462986946106,\n",
              "  0.9269134402275085,\n",
              "  0.9305207133293152,\n",
              "  0.932559609413147,\n",
              "  0.9347553253173828,\n",
              "  0.9350690245628357,\n",
              "  0.9385194182395935,\n",
              "  0.9361668825149536,\n",
              "  0.9345985054969788,\n",
              "  0.9399309754371643,\n",
              "  0.9407151937484741,\n",
              "  0.9438519477844238,\n",
              "  0.9444792866706848,\n",
              "  0.9446361064910889,\n",
              "  0.9432246088981628,\n",
              "  0.9501254558563232,\n",
              "  0.943538248538971,\n",
              "  0.9494981169700623,\n",
              "  0.9494981169700623,\n",
              "  0.9545169472694397,\n",
              "  0.9502823352813721,\n",
              "  0.952634871006012,\n",
              "  0.9570263624191284,\n",
              "  0.9548305869102478,\n",
              "  0.95138019323349,\n",
              "  0.9538896083831787],\n",
              " 'loss': [1.15540611743927,\n",
              "  0.5010048747062683,\n",
              "  0.37277817726135254,\n",
              "  0.31729498505592346,\n",
              "  0.2914511561393738,\n",
              "  0.2726144790649414,\n",
              "  0.2553664445877075,\n",
              "  0.23603330552577972,\n",
              "  0.22677139937877655,\n",
              "  0.22142668068408966,\n",
              "  0.20921704173088074,\n",
              "  0.20841191709041595,\n",
              "  0.1943274587392807,\n",
              "  0.19180089235305786,\n",
              "  0.1857394576072693,\n",
              "  0.18089507520198822,\n",
              "  0.17646555602550507,\n",
              "  0.16835299134254456,\n",
              "  0.17839761078357697,\n",
              "  0.1701985001564026,\n",
              "  0.16657684743404388,\n",
              "  0.15771082043647766,\n",
              "  0.1576974093914032,\n",
              "  0.15189427137374878,\n",
              "  0.15182368457317352,\n",
              "  0.14843204617500305,\n",
              "  0.13924962282180786,\n",
              "  0.14811953902244568,\n",
              "  0.13665834069252014,\n",
              "  0.13741512596607208,\n",
              "  0.133228600025177,\n",
              "  0.13731786608695984,\n",
              "  0.1305379867553711,\n",
              "  0.12428657710552216,\n",
              "  0.12558016180992126,\n",
              "  0.1320854127407074,\n",
              "  0.1234900951385498],\n",
              " 'val_accuracy': [0.766771137714386,\n",
              "  0.8664577007293701,\n",
              "  0.8846395015716553,\n",
              "  0.8771159648895264,\n",
              "  0.8959247469902039,\n",
              "  0.8921630382537842,\n",
              "  0.8915360569953918,\n",
              "  0.9028213024139404,\n",
              "  0.9034482836723328,\n",
              "  0.8952978253364563,\n",
              "  0.9047021865844727,\n",
              "  0.9003134965896606,\n",
              "  0.9034482836723328,\n",
              "  0.899059534072876,\n",
              "  0.9141066074371338,\n",
              "  0.9028213024139404,\n",
              "  0.9115987420082092,\n",
              "  0.899059534072876,\n",
              "  0.9090909361839294,\n",
              "  0.9040752053260803,\n",
              "  0.9015673995018005,\n",
              "  0.899059534072876,\n",
              "  0.9015673995018005,\n",
              "  0.9034482836723328,\n",
              "  0.9059560894966125,\n",
              "  0.9103448390960693,\n",
              "  0.9109717607498169,\n",
              "  0.9178683161735535,\n",
              "  0.9128526449203491,\n",
              "  0.909717857837677,\n",
              "  0.9028213024139404,\n",
              "  0.9078369736671448,\n",
              "  0.905329167842865,\n",
              "  0.9109717607498169,\n",
              "  0.9084639549255371,\n",
              "  0.9210031628608704,\n",
              "  0.9072100520133972],\n",
              " 'val_loss': [0.6003989577293396,\n",
              "  0.3854151964187622,\n",
              "  0.33421090245246887,\n",
              "  0.3167749047279358,\n",
              "  0.28316065669059753,\n",
              "  0.2846154272556305,\n",
              "  0.2716543674468994,\n",
              "  0.272371381521225,\n",
              "  0.2657567858695984,\n",
              "  0.2605803906917572,\n",
              "  0.25512757897377014,\n",
              "  0.2560614049434662,\n",
              "  0.24890519678592682,\n",
              "  0.24430567026138306,\n",
              "  0.24145588278770447,\n",
              "  0.2503221035003662,\n",
              "  0.24151599407196045,\n",
              "  0.256824254989624,\n",
              "  0.24231493473052979,\n",
              "  0.23845598101615906,\n",
              "  0.24551405012607574,\n",
              "  0.26141157746315,\n",
              "  0.25787967443466187,\n",
              "  0.25030770897865295,\n",
              "  0.24143952131271362,\n",
              "  0.23573406040668488,\n",
              "  0.22854746878147125,\n",
              "  0.24135544896125793,\n",
              "  0.2317279875278473,\n",
              "  0.23977215588092804,\n",
              "  0.26515671610832214,\n",
              "  0.2402298003435135,\n",
              "  0.254661500453949,\n",
              "  0.2545311450958252,\n",
              "  0.24694231152534485,\n",
              "  0.239340141415596,\n",
              "  0.2477746456861496]}"
            ]
          },
          "execution_count": 42,
          "metadata": {},
          "output_type": "execute_result"
        }
      ]
    },
    {
      "cell_type": "code",
      "metadata": {
        "colab": {
          "base_uri": "https://localhost:8080/",
          "height": 2000
        },
        "id": "TuFMjRqtQuTv",
        "outputId": "cac6b17f-2c43-4bce-aba2-6b52e56dc594"
      },
      "source": [
        "# Create KerasClassifier model\n",
        "# Then pass the cnn_model function to the build_fn argument when constructing the KerasClassifier class.\n",
        "\n",
        "\n",
        "max_features = max_features\n",
        "embedding_dim = 64\n",
        "model = cnn_model(drop_out=0.4, filter_one=64,last_dense=64, padding='same',learning_rate=1e-4, num_epochs=10)\n"
      ],
      "id": "TuFMjRqtQuTv",
      "execution_count": null,
      "outputs": [
        {
          "data": {
            "application/javascript": [
              "google.colab.output.setIframeHeight(0, true, {maxHeight: 2000})"
            ],
            "text/plain": [
              "<IPython.core.display.Javascript object>"
            ]
          },
          "metadata": {},
          "output_type": "display_data"
        },
        {
          "data": {
            "application/javascript": [
              "google.colab.output.setIframeWidth(0, true, {maxWidth: 2000})"
            ],
            "text/plain": [
              "<IPython.core.display.Javascript object>"
            ]
          },
          "metadata": {},
          "output_type": "display_data"
        },
        {
          "name": "stdout",
          "output_type": "stream",
          "text": [
            "Model: \"sequential_2\"\n",
            "_________________________________________________________________\n",
            "Layer (type)                 Output Shape              Param #   \n",
            "=================================================================\n",
            "embedding_2 (Embedding)      (None, 500, 64)           1280128   \n",
            "_________________________________________________________________\n",
            "conv1d_4 (Conv1D)            (None, 500, 128)          24704     \n",
            "_________________________________________________________________\n",
            "dropout_4 (Dropout)          (None, 500, 128)          0         \n",
            "_________________________________________________________________\n",
            "conv1d_5 (Conv1D)            (None, 500, 64)           24640     \n",
            "_________________________________________________________________\n",
            "global_max_pooling1d_2 (Glob (None, 64)                0         \n",
            "_________________________________________________________________\n",
            "dropout_5 (Dropout)          (None, 64)                0         \n",
            "_________________________________________________________________\n",
            "dense_4 (Dense)              (None, 64)                4160      \n",
            "_________________________________________________________________\n",
            "dense_5 (Dense)              (None, 3)                 195       \n",
            "=================================================================\n",
            "Total params: 1,333,827\n",
            "Trainable params: 1,333,827\n",
            "Non-trainable params: 0\n",
            "_________________________________________________________________\n",
            "Epoch 1/10\n",
            "200/200 - 4s - loss: 1.0891 - accuracy: 0.5863 - val_loss: 0.5365 - val_accuracy: 0.8257\n",
            "\n",
            "Epoch 00001: val_accuracy improved from -inf to 0.82571, saving model to ./best_CNN_checkpoint.hdf5\n",
            "Epoch 2/10\n",
            "200/200 - 3s - loss: 0.4759 - accuracy: 0.8355 - val_loss: 0.4005 - val_accuracy: 0.8564\n",
            "\n",
            "Epoch 00002: val_accuracy improved from 0.82571 to 0.85643, saving model to ./best_CNN_checkpoint.hdf5\n",
            "Epoch 3/10\n",
            "200/200 - 4s - loss: 0.3789 - accuracy: 0.8650 - val_loss: 0.3416 - val_accuracy: 0.8765\n",
            "\n",
            "Epoch 00003: val_accuracy improved from 0.85643 to 0.87649, saving model to ./best_CNN_checkpoint.hdf5\n",
            "Epoch 4/10\n",
            "200/200 - 3s - loss: 0.3306 - accuracy: 0.8783 - val_loss: 0.3177 - val_accuracy: 0.8803\n",
            "\n",
            "Epoch 00004: val_accuracy improved from 0.87649 to 0.88025, saving model to ./best_CNN_checkpoint.hdf5\n",
            "Epoch 5/10\n",
            "200/200 - 3s - loss: 0.2929 - accuracy: 0.8957 - val_loss: 0.2955 - val_accuracy: 0.8909\n",
            "\n",
            "Epoch 00005: val_accuracy improved from 0.88025 to 0.89091, saving model to ./best_CNN_checkpoint.hdf5\n",
            "Epoch 6/10\n",
            "200/200 - 3s - loss: 0.2758 - accuracy: 0.9006 - val_loss: 0.2829 - val_accuracy: 0.8909\n",
            "\n",
            "Epoch 00006: val_accuracy did not improve from 0.89091\n",
            "Epoch 7/10\n",
            "200/200 - 3s - loss: 0.2578 - accuracy: 0.9086 - val_loss: 0.2710 - val_accuracy: 0.9047\n",
            "\n",
            "Epoch 00007: val_accuracy improved from 0.89091 to 0.90470, saving model to ./best_CNN_checkpoint.hdf5\n",
            "Epoch 8/10\n",
            "200/200 - 3s - loss: 0.2397 - accuracy: 0.9159 - val_loss: 0.2707 - val_accuracy: 0.8947\n",
            "\n",
            "Epoch 00008: val_accuracy did not improve from 0.90470\n",
            "Epoch 9/10\n",
            "200/200 - 3s - loss: 0.2292 - accuracy: 0.9178 - val_loss: 0.2560 - val_accuracy: 0.9085\n",
            "\n",
            "Epoch 00009: val_accuracy improved from 0.90470 to 0.90846, saving model to ./best_CNN_checkpoint.hdf5\n",
            "Epoch 10/10\n",
            "200/200 - 4s - loss: 0.2236 - accuracy: 0.9197 - val_loss: 0.2458 - val_accuracy: 0.9053\n",
            "\n",
            "Epoch 00010: val_accuracy did not improve from 0.90846\n",
            "\n",
            "\n",
            "Evaluate on test data \n",
            "\n",
            "25/25 [==============================] - 0s 10ms/step - loss: 0.2458 - accuracy: 0.9053\n",
            "Test Loss: 0.24578607082366943\n",
            "Test Accuracy: 0.905329167842865\n",
            "\n",
            "\n",
            "predictions shape: (1595, 3)\n",
            "-------------------------------------------------------------------------------- \n",
            "\n",
            "Confusion Matrix of CNN Model \n",
            "\n",
            "     D    L    Z\n",
            "D  532   32   12\n",
            "L   22  447   32\n",
            "Z   17   36  465 \n",
            "\n",
            "Classification Report :  \n",
            "\n",
            "              precision    recall  f1-score   support\n",
            "\n",
            "   D-variety       0.93      0.92      0.93       576\n",
            "   L-variety       0.87      0.89      0.88       501\n",
            "   Z-variety       0.91      0.90      0.91       518\n",
            "\n",
            "    accuracy                           0.91      1595\n",
            "   macro avg       0.90      0.90      0.90      1595\n",
            "weighted avg       0.91      0.91      0.91      1595\n",
            " \n",
            "\n",
            "Plotting Loss and Accuracy Graphs \n",
            "\n"
          ]
        },
        {
          "data": {
            "image/png": "[encoded data removed]",
            "text/plain": [
              "<Figure size 432x288 with 1 Axes>"
            ]
          },
          "metadata": {},
          "output_type": "display_data"
        },
        {
          "data": {
            "image/png": "[encoded data removed]",
            "text/plain": [
              "<Figure size 432x288 with 1 Axes>"
            ]
          },
          "metadata": {},
          "output_type": "display_data"
        }
      ]
    },
    {
      "cell_type": "code",
      "metadata": {
        "colab": {
          "base_uri": "https://localhost:8080/",
          "height": 17
        },
        "id": "83LsCC5r-zSY",
        "outputId": "0e22cb5a-31cc-43e9-8e9f-9a08b249b746"
      },
      "source": [
        "estimator = KerasClassifier(build_fn=cnn_model, epochs=10, batch_size=32, verbose=2)\n"
      ],
      "id": "83LsCC5r-zSY",
      "execution_count": null,
      "outputs": [
        {
          "data": {
            "application/javascript": [
              "google.colab.output.setIframeHeight(0, true, {maxHeight: 2000})"
            ],
            "text/plain": [
              "<IPython.core.display.Javascript object>"
            ]
          },
          "metadata": {},
          "output_type": "display_data"
        },
        {
          "data": {
            "application/javascript": [
              "google.colab.output.setIframeWidth(0, true, {maxWidth: 2000})"
            ],
            "text/plain": [
              "<IPython.core.display.Javascript object>"
            ]
          },
          "metadata": {},
          "output_type": "display_data"
        }
      ]
    },
    {
      "cell_type": "code",
      "metadata": {
        "colab": {
          "base_uri": "https://localhost:8080/",
          "height": 2000
        },
        "id": "rHR09h__VI3p",
        "outputId": "90a2777c-cbe8-4327-c13f-928f2f4aa2e1"
      },
      "source": [
        "from sklearn.model_selection import RepeatedStratifiedKFold\n",
        "from sklearn.model_selection import RandomizedSearchCV\n",
        "\n",
        "\n",
        "\n",
        "cv = RepeatedStratifiedKFold(n_splits=5,n_repeats=3, random_state=1)\n",
        "# define search space\n",
        "\n",
        "space = {\n",
        "    'filter_one':[32,64,128],\n",
        "    'num_epochs': [20,40,60],\n",
        "    'last_dense':[32,64,128],\n",
        "    'batch_size':[64,128,256],\n",
        "    'learning_rate':[0.001,0.0001,0.00001],\n",
        "    'drop_out':[0.3,0.4,0.5],\n",
        "    'padding': ['same','valid']\n",
        "\n",
        "}\n",
        "\n",
        "search = RandomizedSearchCV(estimator=estimator,\n",
        "                    n_jobs=-1,\n",
        "                    verbose=2,\n",
        "                    return_train_score=True,\n",
        "                    n_iter=3,\n",
        "                    scoring='accuracy',\n",
        "                    cv=5,\n",
        "                    param_distributions=space,\n",
        "                    random_state=1)\n",
        "# define search\n",
        "#search = RandomizedSearchCV(estimator, param_grid, n_iter=500, scoring='accuracy', n_jobs=-1, cv=cv, random_state=1)\n",
        "# execute search\n",
        "result = search.fit(X_train, y_train)\n",
        "# summarize result\n",
        "print('Best Score: %s' % result.best_score_)\n",
        "print('Best Hyperparameters: %s' % result.best_params_)"
      ],
      "id": "rHR09h__VI3p",
      "execution_count": null,
      "outputs": [
        {
          "data": {
            "application/javascript": [
              "google.colab.output.setIframeHeight(0, true, {maxHeight: 2000})"
            ],
            "text/plain": [
              "<IPython.core.display.Javascript object>"
            ]
          },
          "metadata": {},
          "output_type": "display_data"
        },
        {
          "data": {
            "application/javascript": [
              "google.colab.output.setIframeWidth(0, true, {maxWidth: 2000})"
            ],
            "text/plain": [
              "<IPython.core.display.Javascript object>"
            ]
          },
          "metadata": {},
          "output_type": "display_data"
        },
        {
          "metadata": {
            "tags": null
          },
          "name": "stdout",
          "output_type": "stream",
          "text": [
            "Fitting 5 folds for each of 3 candidates, totalling 15 fits\n"
          ]
        },
        {
          "output_type": "stream",
          "name": "stderr",
          "text": [
            "[Parallel(n_jobs=-1)]: Using backend LokyBackend with 2 concurrent workers.\n",
            "[Parallel(n_jobs=-1)]: Done  15 out of  15 | elapsed: 199.0min finished\n"
          ]
        },
        {
          "output_type": "stream",
          "name": "stdout",
          "text": [
            "Model: \"sequential_3\"\n",
            "_________________________________________________________________\n",
            "Layer (type)                 Output Shape              Param #   \n",
            "=================================================================\n",
            "embedding_3 (Embedding)      (None, 500, 64)           1280128   \n",
            "_________________________________________________________________\n",
            "conv1d_6 (Conv1D)            (None, 498, 128)          24704     \n",
            "_________________________________________________________________\n",
            "dropout_6 (Dropout)          (None, 498, 128)          0         \n",
            "_________________________________________________________________\n",
            "conv1d_7 (Conv1D)            (None, 496, 64)           24640     \n",
            "_________________________________________________________________\n",
            "global_max_pooling1d_3 (Glob (None, 64)                0         \n",
            "_________________________________________________________________\n",
            "dropout_7 (Dropout)          (None, 64)                0         \n",
            "_________________________________________________________________\n",
            "dense_6 (Dense)              (None, 64)                4160      \n",
            "_________________________________________________________________\n",
            "dense_7 (Dense)              (None, 3)                 195       \n",
            "=================================================================\n",
            "Total params: 1,333,827\n",
            "Trainable params: 1,333,827\n",
            "Non-trainable params: 0\n",
            "_________________________________________________________________\n",
            "Epoch 1/60\n",
            "200/200 - 4s - loss: 1.0603 - accuracy: 0.6012 - val_loss: 0.5210 - val_accuracy: 0.8263\n",
            "\n",
            "Epoch 00001: val_accuracy improved from -inf to 0.82633, saving model to ./best_CNN_checkpoint.hdf5\n",
            "Epoch 2/60\n",
            "200/200 - 3s - loss: 0.4730 - accuracy: 0.8350 - val_loss: 0.3857 - val_accuracy: 0.8564\n",
            "\n",
            "Epoch 00002: val_accuracy improved from 0.82633 to 0.85643, saving model to ./best_CNN_checkpoint.hdf5\n",
            "Epoch 3/60\n",
            "200/200 - 3s - loss: 0.3739 - accuracy: 0.8665 - val_loss: 0.3562 - val_accuracy: 0.8539\n",
            "\n",
            "Epoch 00003: val_accuracy did not improve from 0.85643\n",
            "Epoch 4/60\n",
            "200/200 - 3s - loss: 0.3214 - accuracy: 0.8802 - val_loss: 0.3263 - val_accuracy: 0.8633\n",
            "\n",
            "Epoch 00004: val_accuracy improved from 0.85643 to 0.86332, saving model to ./best_CNN_checkpoint.hdf5\n",
            "Epoch 5/60\n",
            "200/200 - 3s - loss: 0.2824 - accuracy: 0.8949 - val_loss: 0.3034 - val_accuracy: 0.8815\n",
            "\n",
            "Epoch 00005: val_accuracy improved from 0.86332 to 0.88150, saving model to ./best_CNN_checkpoint.hdf5\n",
            "Epoch 6/60\n",
            "200/200 - 3s - loss: 0.2744 - accuracy: 0.8965 - val_loss: 0.2926 - val_accuracy: 0.8840\n",
            "\n",
            "Epoch 00006: val_accuracy improved from 0.88150 to 0.88401, saving model to ./best_CNN_checkpoint.hdf5\n",
            "Epoch 7/60\n",
            "200/200 - 3s - loss: 0.2468 - accuracy: 0.9068 - val_loss: 0.3277 - val_accuracy: 0.8702\n",
            "\n",
            "Epoch 00007: val_accuracy did not improve from 0.88401\n",
            "Epoch 8/60\n",
            "200/200 - 3s - loss: 0.2383 - accuracy: 0.9111 - val_loss: 0.2774 - val_accuracy: 0.8922\n",
            "\n",
            "Epoch 00008: val_accuracy improved from 0.88401 to 0.89216, saving model to ./best_CNN_checkpoint.hdf5\n",
            "Epoch 9/60\n",
            "200/200 - 3s - loss: 0.2264 - accuracy: 0.9131 - val_loss: 0.2737 - val_accuracy: 0.8909\n",
            "\n",
            "Epoch 00009: val_accuracy did not improve from 0.89216\n",
            "Epoch 10/60\n",
            "200/200 - 3s - loss: 0.2085 - accuracy: 0.9228 - val_loss: 0.2981 - val_accuracy: 0.8796\n",
            "\n",
            "Epoch 00010: val_accuracy did not improve from 0.89216\n",
            "Epoch 11/60\n",
            "200/200 - 3s - loss: 0.1993 - accuracy: 0.9255 - val_loss: 0.2646 - val_accuracy: 0.8972\n",
            "\n",
            "Epoch 00011: val_accuracy improved from 0.89216 to 0.89718, saving model to ./best_CNN_checkpoint.hdf5\n",
            "Epoch 12/60\n",
            "200/200 - 3s - loss: 0.2013 - accuracy: 0.9249 - val_loss: 0.2568 - val_accuracy: 0.9028\n",
            "\n",
            "Epoch 00012: val_accuracy improved from 0.89718 to 0.90282, saving model to ./best_CNN_checkpoint.hdf5\n",
            "Epoch 13/60\n",
            "200/200 - 3s - loss: 0.1917 - accuracy: 0.9271 - val_loss: 0.2624 - val_accuracy: 0.8997\n",
            "\n",
            "Epoch 00013: val_accuracy did not improve from 0.90282\n",
            "Epoch 14/60\n",
            "200/200 - 3s - loss: 0.1807 - accuracy: 0.9349 - val_loss: 0.2549 - val_accuracy: 0.9091\n",
            "\n",
            "Epoch 00014: val_accuracy improved from 0.90282 to 0.90909, saving model to ./best_CNN_checkpoint.hdf5\n",
            "Epoch 15/60\n",
            "200/200 - 3s - loss: 0.1846 - accuracy: 0.9318 - val_loss: 0.2551 - val_accuracy: 0.8972\n",
            "\n",
            "Epoch 00015: val_accuracy did not improve from 0.90909\n",
            "Epoch 16/60\n",
            "200/200 - 3s - loss: 0.1646 - accuracy: 0.9374 - val_loss: 0.2722 - val_accuracy: 0.9047\n",
            "\n",
            "Epoch 00016: val_accuracy did not improve from 0.90909\n",
            "Epoch 17/60\n",
            "200/200 - 3s - loss: 0.1680 - accuracy: 0.9359 - val_loss: 0.2545 - val_accuracy: 0.9003\n",
            "\n",
            "Epoch 00017: val_accuracy did not improve from 0.90909\n",
            "Epoch 18/60\n",
            "200/200 - 3s - loss: 0.1596 - accuracy: 0.9406 - val_loss: 0.2597 - val_accuracy: 0.9041\n",
            "\n",
            "Epoch 00018: val_accuracy did not improve from 0.90909\n",
            "Epoch 19/60\n",
            "200/200 - 3s - loss: 0.1569 - accuracy: 0.9409 - val_loss: 0.2641 - val_accuracy: 0.9016\n",
            "\n",
            "Epoch 00019: val_accuracy did not improve from 0.90909\n",
            "Epoch 20/60\n",
            "200/200 - 3s - loss: 0.1500 - accuracy: 0.9460 - val_loss: 0.2491 - val_accuracy: 0.9053\n",
            "\n",
            "Epoch 00020: val_accuracy did not improve from 0.90909\n",
            "Epoch 21/60\n",
            "200/200 - 3s - loss: 0.1440 - accuracy: 0.9442 - val_loss: 0.2769 - val_accuracy: 0.8959\n",
            "\n",
            "Epoch 00021: val_accuracy did not improve from 0.90909\n",
            "Epoch 22/60\n",
            "200/200 - 3s - loss: 0.1511 - accuracy: 0.9434 - val_loss: 0.2934 - val_accuracy: 0.8909\n",
            "\n",
            "Epoch 00022: val_accuracy did not improve from 0.90909\n",
            "Epoch 23/60\n",
            "200/200 - 3s - loss: 0.1397 - accuracy: 0.9481 - val_loss: 0.2963 - val_accuracy: 0.8840\n",
            "\n",
            "Epoch 00023: val_accuracy did not improve from 0.90909\n",
            "Epoch 24/60\n",
            "200/200 - 3s - loss: 0.1373 - accuracy: 0.9493 - val_loss: 0.2756 - val_accuracy: 0.8991\n",
            "\n",
            "Epoch 00024: val_accuracy did not improve from 0.90909\n",
            "Epoch 25/60\n",
            "200/200 - 3s - loss: 0.1329 - accuracy: 0.9534 - val_loss: 0.2618 - val_accuracy: 0.9047\n",
            "\n",
            "Epoch 00025: val_accuracy did not improve from 0.90909\n",
            "Epoch 26/60\n",
            "200/200 - 3s - loss: 0.1268 - accuracy: 0.9545 - val_loss: 0.2583 - val_accuracy: 0.9009\n",
            "\n",
            "Epoch 00026: val_accuracy did not improve from 0.90909\n",
            "Epoch 27/60\n",
            "200/200 - 3s - loss: 0.1290 - accuracy: 0.9537 - val_loss: 0.2668 - val_accuracy: 0.9053\n",
            "\n",
            "Epoch 00027: val_accuracy did not improve from 0.90909\n",
            "Epoch 28/60\n",
            "200/200 - 3s - loss: 0.1279 - accuracy: 0.9550 - val_loss: 0.2765 - val_accuracy: 0.9009\n",
            "\n",
            "Epoch 00028: val_accuracy did not improve from 0.90909\n",
            "Epoch 29/60\n",
            "200/200 - 3s - loss: 0.1227 - accuracy: 0.9561 - val_loss: 0.2711 - val_accuracy: 0.9009\n",
            "\n",
            "Epoch 00029: val_accuracy did not improve from 0.90909\n",
            "Epoch 30/60\n",
            "200/200 - 3s - loss: 0.1182 - accuracy: 0.9545 - val_loss: 0.2875 - val_accuracy: 0.8978\n",
            "\n",
            "Epoch 00030: val_accuracy did not improve from 0.90909\n",
            "Epoch 00030: early stopping\n",
            "\n",
            "\n",
            "Evaluate on test data \n",
            "\n",
            "25/25 [==============================] - 0s 10ms/step - loss: 0.2875 - accuracy: 0.8978\n",
            "Test Loss: 0.28753459453582764\n",
            "Test Accuracy: 0.8978056311607361\n",
            "\n",
            "\n",
            "predictions shape: (1595, 3)\n",
            "-------------------------------------------------------------------------------- \n",
            "\n",
            "Confusion Matrix of CNN Model \n",
            "\n",
            "     D    L    Z\n",
            "D  519   49    8\n",
            "L   21  436   44\n",
            "Z   12   29  477 \n",
            "\n",
            "Classification Report :  \n",
            "\n",
            "              precision    recall  f1-score   support\n",
            "\n",
            "   D-variety       0.94      0.90      0.92       576\n",
            "   L-variety       0.85      0.87      0.86       501\n",
            "   Z-variety       0.90      0.92      0.91       518\n",
            "\n",
            "    accuracy                           0.90      1595\n",
            "   macro avg       0.90      0.90      0.90      1595\n",
            "weighted avg       0.90      0.90      0.90      1595\n",
            " \n",
            "\n",
            "Plotting Loss and Accuracy Graphs \n",
            "\n"
          ]
        },
        {
          "output_type": "display_data",
          "data": {
            "image/png": "[encoded data removed]",
            "text/plain": [
              "<Figure size 432x288 with 1 Axes>"
            ]
          },
          "metadata": {
            "needs_background": "light"
          }
        },
        {
          "output_type": "display_data",
          "data": {
            "image/png": "[encoded data removed]",
            "text/plain": [
              "<Figure size 432x288 with 1 Axes>"
            ]
          },
          "metadata": {
            "needs_background": "light"
          }
        },
        {
          "output_type": "error",
          "ename": "AttributeError",
          "evalue": "ignored",
          "traceback": [
            "\u001b[0;31m---------------------------------------------------------------------------\u001b[0m",
            "\u001b[0;31mAttributeError\u001b[0m                            Traceback (most recent call last)",
            "\u001b[0;32m<ipython-input-52-7a082558d0b2>\u001b[0m in \u001b[0;36m<module>\u001b[0;34m()\u001b[0m\n\u001b[1;32m     30\u001b[0m \u001b[0;31m#search = RandomizedSearchCV(estimator, param_grid, n_iter=500, scoring='accuracy', n_jobs=-1, cv=cv, random_state=1)\u001b[0m\u001b[0;34m\u001b[0m\u001b[0;34m\u001b[0m\u001b[0;34m\u001b[0m\u001b[0m\n\u001b[1;32m     31\u001b[0m \u001b[0;31m# execute search\u001b[0m\u001b[0;34m\u001b[0m\u001b[0;34m\u001b[0m\u001b[0;34m\u001b[0m\u001b[0m\n\u001b[0;32m---> 32\u001b[0;31m \u001b[0mresult\u001b[0m \u001b[0;34m=\u001b[0m \u001b[0msearch\u001b[0m\u001b[0;34m.\u001b[0m\u001b[0mfit\u001b[0m\u001b[0;34m(\u001b[0m\u001b[0mX_train\u001b[0m\u001b[0;34m,\u001b[0m \u001b[0my_train\u001b[0m\u001b[0;34m)\u001b[0m\u001b[0;34m\u001b[0m\u001b[0;34m\u001b[0m\u001b[0m\n\u001b[0m\u001b[1;32m     33\u001b[0m \u001b[0;31m# summarize result\u001b[0m\u001b[0;34m\u001b[0m\u001b[0;34m\u001b[0m\u001b[0;34m\u001b[0m\u001b[0m\n\u001b[1;32m     34\u001b[0m \u001b[0mprint\u001b[0m\u001b[0;34m(\u001b[0m\u001b[0;34m'Best Score: %s'\u001b[0m \u001b[0;34m%\u001b[0m \u001b[0mresult\u001b[0m\u001b[0;34m.\u001b[0m\u001b[0mbest_score_\u001b[0m\u001b[0;34m)\u001b[0m\u001b[0;34m\u001b[0m\u001b[0;34m\u001b[0m\u001b[0m\n",
            "\u001b[0;32m/usr/local/lib/python3.7/dist-packages/sklearn/model_selection/_search.py\u001b[0m in \u001b[0;36mfit\u001b[0;34m(self, X, y, groups, **fit_params)\u001b[0m\n\u001b[1;32m    737\u001b[0m             \u001b[0mrefit_start_time\u001b[0m \u001b[0;34m=\u001b[0m \u001b[0mtime\u001b[0m\u001b[0;34m.\u001b[0m\u001b[0mtime\u001b[0m\u001b[0;34m(\u001b[0m\u001b[0;34m)\u001b[0m\u001b[0;34m\u001b[0m\u001b[0;34m\u001b[0m\u001b[0m\n\u001b[1;32m    738\u001b[0m             \u001b[0;32mif\u001b[0m \u001b[0my\u001b[0m \u001b[0;32mis\u001b[0m \u001b[0;32mnot\u001b[0m \u001b[0;32mNone\u001b[0m\u001b[0;34m:\u001b[0m\u001b[0;34m\u001b[0m\u001b[0;34m\u001b[0m\u001b[0m\n\u001b[0;32m--> 739\u001b[0;31m                 \u001b[0mself\u001b[0m\u001b[0;34m.\u001b[0m\u001b[0mbest_estimator_\u001b[0m\u001b[0;34m.\u001b[0m\u001b[0mfit\u001b[0m\u001b[0;34m(\u001b[0m\u001b[0mX\u001b[0m\u001b[0;34m,\u001b[0m \u001b[0my\u001b[0m\u001b[0;34m,\u001b[0m \u001b[0;34m**\u001b[0m\u001b[0mfit_params\u001b[0m\u001b[0;34m)\u001b[0m\u001b[0;34m\u001b[0m\u001b[0;34m\u001b[0m\u001b[0m\n\u001b[0m\u001b[1;32m    740\u001b[0m             \u001b[0;32melse\u001b[0m\u001b[0;34m:\u001b[0m\u001b[0;34m\u001b[0m\u001b[0;34m\u001b[0m\u001b[0m\n\u001b[1;32m    741\u001b[0m                 \u001b[0mself\u001b[0m\u001b[0;34m.\u001b[0m\u001b[0mbest_estimator_\u001b[0m\u001b[0;34m.\u001b[0m\u001b[0mfit\u001b[0m\u001b[0;34m(\u001b[0m\u001b[0mX\u001b[0m\u001b[0;34m,\u001b[0m \u001b[0;34m**\u001b[0m\u001b[0mfit_params\u001b[0m\u001b[0;34m)\u001b[0m\u001b[0;34m\u001b[0m\u001b[0;34m\u001b[0m\u001b[0m\n",
            "\u001b[0;32m/usr/local/lib/python3.7/dist-packages/keras/wrappers/scikit_learn.py\u001b[0m in \u001b[0;36mfit\u001b[0;34m(self, x, y, **kwargs)\u001b[0m\n\u001b[1;32m    217\u001b[0m       \u001b[0;32mraise\u001b[0m \u001b[0mValueError\u001b[0m\u001b[0;34m(\u001b[0m\u001b[0;34m'Invalid shape for y: '\u001b[0m \u001b[0;34m+\u001b[0m \u001b[0mstr\u001b[0m\u001b[0;34m(\u001b[0m\u001b[0my\u001b[0m\u001b[0;34m.\u001b[0m\u001b[0mshape\u001b[0m\u001b[0;34m)\u001b[0m\u001b[0;34m)\u001b[0m\u001b[0;34m\u001b[0m\u001b[0;34m\u001b[0m\u001b[0m\n\u001b[1;32m    218\u001b[0m     \u001b[0mself\u001b[0m\u001b[0;34m.\u001b[0m\u001b[0mn_classes_\u001b[0m \u001b[0;34m=\u001b[0m \u001b[0mlen\u001b[0m\u001b[0;34m(\u001b[0m\u001b[0mself\u001b[0m\u001b[0;34m.\u001b[0m\u001b[0mclasses_\u001b[0m\u001b[0;34m)\u001b[0m\u001b[0;34m\u001b[0m\u001b[0;34m\u001b[0m\u001b[0m\n\u001b[0;32m--> 219\u001b[0;31m     \u001b[0;32mreturn\u001b[0m \u001b[0msuper\u001b[0m\u001b[0;34m(\u001b[0m\u001b[0mKerasClassifier\u001b[0m\u001b[0;34m,\u001b[0m \u001b[0mself\u001b[0m\u001b[0;34m)\u001b[0m\u001b[0;34m.\u001b[0m\u001b[0mfit\u001b[0m\u001b[0;34m(\u001b[0m\u001b[0mx\u001b[0m\u001b[0;34m,\u001b[0m \u001b[0my\u001b[0m\u001b[0;34m,\u001b[0m \u001b[0;34m**\u001b[0m\u001b[0mkwargs\u001b[0m\u001b[0;34m)\u001b[0m\u001b[0;34m\u001b[0m\u001b[0;34m\u001b[0m\u001b[0m\n\u001b[0m\u001b[1;32m    220\u001b[0m \u001b[0;34m\u001b[0m\u001b[0m\n\u001b[1;32m    221\u001b[0m   \u001b[0;32mdef\u001b[0m \u001b[0mpredict\u001b[0m\u001b[0;34m(\u001b[0m\u001b[0mself\u001b[0m\u001b[0;34m,\u001b[0m \u001b[0mx\u001b[0m\u001b[0;34m,\u001b[0m \u001b[0;34m**\u001b[0m\u001b[0mkwargs\u001b[0m\u001b[0;34m)\u001b[0m\u001b[0;34m:\u001b[0m\u001b[0;34m\u001b[0m\u001b[0;34m\u001b[0m\u001b[0m\n",
            "\u001b[0;32m/usr/local/lib/python3.7/dist-packages/keras/wrappers/scikit_learn.py\u001b[0m in \u001b[0;36mfit\u001b[0;34m(self, x, y, **kwargs)\u001b[0m\n\u001b[1;32m    153\u001b[0m       \u001b[0mself\u001b[0m\u001b[0;34m.\u001b[0m\u001b[0mmodel\u001b[0m \u001b[0;34m=\u001b[0m \u001b[0mself\u001b[0m\u001b[0;34m.\u001b[0m\u001b[0mbuild_fn\u001b[0m\u001b[0;34m(\u001b[0m\u001b[0;34m**\u001b[0m\u001b[0mself\u001b[0m\u001b[0;34m.\u001b[0m\u001b[0mfilter_sk_params\u001b[0m\u001b[0;34m(\u001b[0m\u001b[0mself\u001b[0m\u001b[0;34m.\u001b[0m\u001b[0mbuild_fn\u001b[0m\u001b[0;34m)\u001b[0m\u001b[0;34m)\u001b[0m\u001b[0;34m\u001b[0m\u001b[0;34m\u001b[0m\u001b[0m\n\u001b[1;32m    154\u001b[0m \u001b[0;34m\u001b[0m\u001b[0m\n\u001b[0;32m--> 155\u001b[0;31m     if (losses.is_categorical_crossentropy(self.model.loss) and\n\u001b[0m\u001b[1;32m    156\u001b[0m         len(y.shape) != 2):\n\u001b[1;32m    157\u001b[0m       \u001b[0my\u001b[0m \u001b[0;34m=\u001b[0m \u001b[0mto_categorical\u001b[0m\u001b[0;34m(\u001b[0m\u001b[0my\u001b[0m\u001b[0;34m)\u001b[0m\u001b[0;34m\u001b[0m\u001b[0;34m\u001b[0m\u001b[0m\n",
            "\u001b[0;31mAttributeError\u001b[0m: 'dict' object has no attribute 'loss'"
          ]
        }
      ]
    },
    {
      "cell_type": "code",
      "metadata": {
        "id": "oUSpDzkTOxYq"
      },
      "source": [
        "# Define the most relevant grid search parameters\n",
        "# A dictionary of hyperparameters to evaluate in the param_grid argument.\n",
        "# This is a map of the model parameter name and an array of values to try.\n",
        "\n",
        "param_grid = {\n",
        "    'filter_one':[32,64,128],\n",
        "    'num_epochs': [20,40,60],\n",
        "    'last_dense':[32,64,128],\n",
        "    'batch_size':[64,128,256],\n",
        "    'learning_rate':[0.001,0.0001,0.00001],\n",
        "    'drop_out':[0.3,0.4,0.5],\n",
        "    'padding':['same','valid']\n",
        "}\n"
      ],
      "id": "oUSpDzkTOxYq",
      "execution_count": null,
      "outputs": []
    },
    {
      "cell_type": "markdown",
      "metadata": {
        "id": "bd4426a6"
      },
      "source": [
        "# Create KerasClassifier model\n",
        "# Then pass the cnn_model function to the build_fn argument when constructing the KerasClassifier class.\n",
        "\n",
        "estimator = KerasClassifier(build_fn=cnn_model, epochs=10, batch_size=32, verbose=2)\n"
      ],
      "id": "bd4426a6"
    },
    {
      "cell_type": "markdown",
      "metadata": {
        "id": "9a927745"
      },
      "source": [
        "The batch size in iterative gradient descent is the number of patterns shown to the network before the weights are updated.\n",
        "It is also an optimization in the training of the network, defining how many patterns to read at a time and keep in memory.\n",
        "\n",
        "The number of epochs is the number of times that the entire training dataset is shown to the network during training.\n",
        "Some networks are sensitive to the batch size, such as LSTM, RNN and CNN.\n",
        "\n",
        "https://machinelearningmastery.com/grid-search-hyperparameters-deep-learning-models-python-keras/\n",
        "    \n",
        "    \n",
        "We would like to fine-tune these hyperparameters: fileters, dropout_rate,number of epochs,batch_size,padding and dense_layer_size.\n",
        "\n",
        "These parameters must be defined in the signature of cnn_model() function with default parameters.\n",
        "\n",
        "https://medium.com/@am.benatmane/keras-hyperparameter-tuning-using-sklearn-pipelines-grid-search-with-cross-validation-ccfc74b0ce9f"
      ],
      "id": "9a927745"
    },
    {
      "cell_type": "code",
      "metadata": {
        "id": "a06fa662"
      },
      "source": [
        "# Define the most relevant grid search parameters\n",
        "# A dictionary of hyperparameters to evaluate in the param_grid argument.\n",
        "# This is a map of the model parameter name and an array of values to try.\n",
        "\n",
        "param_grid = {\n",
        "    'filter_one':[32,64,128],\n",
        "    'num_epochs': [20,40,60],\n",
        "    'last_dense':[32,64,128],\n",
        "    'batch_size':[32,64,128,256],\n",
        "    'learning_rate':[0.001,0.0001,0.00001],\n",
        "    'drop_out':[0.2,0.3,0.4,0.5],\n",
        "    'padding':['same','valid']\n",
        "}\n"
      ],
      "id": "a06fa662",
      "execution_count": null,
      "outputs": []
    },
    {
      "cell_type": "markdown",
      "metadata": {
        "id": "4fafce49"
      },
      "source": [
        "1. estimator : Pass the model instance for which you want to check the hyperparameters.\n",
        "2.params_grid: the dictionary object that holds the hyperparameters you want to try\n",
        "3.scoring: evaluation metric that you want to use, you can simply pass a valid string/ object of evaluation metric\n",
        "4.cv: number of cross-validation you have to try for each selected set of hyperparameters\n",
        "5.verbose: you can set it to 1 to get the detailed print out while you fit the data to GridSearchCV\n",
        "6.n_jobs: number of processes you wish to run in parallel for this task if it -1 it will use all available processors.\n",
        "    \n",
        "https://www.mygreatlearning.com/blog/gridsearchcv/"
      ],
      "id": "4fafce49"
    },
    {
      "cell_type": "code",
      "metadata": {
        "id": "1e42b89b"
      },
      "source": [
        "# Conduct grid search with Kfold cross validation\n",
        "# We use Kfold cross validation to check how well our model is able to generalize the unseen data\n",
        "#Grid search is a model hyperparameter optimization technique.\n",
        "# By default, accuracy is the score that is optimized,\n",
        "# but other scores can be specified in the score argument of the GridSearchCV constructor.\n",
        "#By default, the grid search will only use one thread.\n",
        "# By setting the n_jobs argument in the GridSearchCV constructor to -1, the process will use all core processors on your machine.\n",
        "# Depending on your Keras backend, this may interfere with the main neural network training process.\n",
        "\n",
        "grid = GridSearchCV(estimator=estimator,\n",
        "                    n_jobs=-1,\n",
        "                    verbose=2,\n",
        "                    return_train_score=True,\n",
        "                    scoring=['accuracy','precision_macro','recall_macro'],\n",
        "                    refit='precision_macro',\n",
        "                    cv=3,\n",
        "                    param_grid=param_grid)"
      ],
      "id": "1e42b89b",
      "execution_count": null,
      "outputs": []
    },
    {
      "cell_type": "code",
      "metadata": {
        "colab": {
          "base_uri": "https://localhost:8080/"
        },
        "id": "vK7HtQktz9OA",
        "outputId": "d1f34a47-12d4-418c-e660-4456305a7826"
      },
      "source": [
        "#  access the outcome of the grid search in the result object returned from grid.fit().\n",
        "\n",
        "grid_result = grid.fit(X_train, y_train, verbose=2)\n",
        "\n",
        "# summarize results\n",
        "# The best_score_ member provides access to the best score observed during the optimization procedure\n",
        "# and the best_params_ describes the combination of parameters that achieved the best results\n",
        "\n",
        "\n",
        "print(\"Best: %f using %s\" % (grid_result.best_score_, grid_result.best_params_))\n",
        "means = grid_result.cv_results_['mean_test_score']\n",
        "stds = grid_result.cv_results_['std_test_score']\n",
        "params = grid_result.cv_results_['params']\n",
        "for mean, stdev, param in zip(means, stds, params):\n",
        "    print(\"%f (%f) with: %r\" % (mean, stdev, param))"
      ],
      "id": "vK7HtQktz9OA",
      "execution_count": null,
      "outputs": [
        {
          "name": "stdout",
          "output_type": "stream",
          "text": [
            "Fitting 3 folds for each of 2592 candidates, totalling 7776 fits\n"
          ]
        },
        {
          "name": "stderr",
          "output_type": "stream",
          "text": [
            "[Parallel(n_jobs=-1)]: Using backend LokyBackend with 2 concurrent workers.\n"
          ]
        }
      ]
    },
    {
      "cell_type": "markdown",
      "metadata": {
        "id": "b61cae71"
      },
      "source": [
        "sklearn.model_selection.GridSearchCV\n",
        "https://scikit-learn.org/stable/modules/generated/sklearn.model_selection.GridSearchCV.html"
      ],
      "id": "b61cae71"
    },
    {
      "cell_type": "code",
      "metadata": {
        "id": "ae3b0fac"
      },
      "source": [
        "def run_experiments():\n",
        "    # grid search\n",
        "    drop_outs = (0.3,0.4,0.5,0.6, 0.7)\n",
        "    filters_one = (32, 64, 128,256)\n",
        "    filters_two = (32, 64, 128,256)\n",
        "    last_dense_layers = (32, 64, 128,256)\n",
        "    paddings = ('same', 'valid')\n",
        "\n",
        "    results = []\n",
        "    for drop_out in drop_outs:\n",
        "        for filter_one in filters_one[:-1]:\n",
        "            for filter_two in filters_two:\n",
        "                for last_dense in last_dense_layers:\n",
        "                    for padding in paddings:\n",
        "                        res = cnn_bilstm_model(drop_out, filter_one, filter_two, last_dense, padding,num_epochs=50)\n",
        "                        #res = 'running ...'\n",
        "                        results.append({'drop_out': drop_out,\n",
        "                                   'filter_one': filter_one,\n",
        "                                   'filter_two': filter_two,\n",
        "                                    'last_dense': last_dense,\n",
        "                                    'padding': padding,\n",
        "                                    'history': res})\n",
        "    return results"
      ],
      "id": "ae3b0fac",
      "execution_count": null,
      "outputs": []
    },
    {
      "cell_type": "code",
      "metadata": {
        "id": "5fdf0547",
        "scrolled": false
      },
      "source": [
        "#r = run_experiments()"
      ],
      "id": "5fdf0547",
      "execution_count": null,
      "outputs": []
    },
    {
      "cell_type": "code",
      "metadata": {
        "id": "8dc1632d"
      },
      "source": [
        "# Combination of CNN and BI-LSTM models\n",
        "\n",
        "def cnn_bilstm_model(drop_out, filter_one, filter_two,learning_rate, last_dense, padding, num_epochs):\n",
        "    # create a CNN model\n",
        "    model = tf.keras.Sequential([\n",
        "        # Add an Embedding layer expecting input vocab of size 5000, and output embedding dimension of size 64 we set at the top\n",
        "        tf.keras.layers.Embedding(max_features+2,embedding_dim,input_shape=(500,)),\n",
        "\n",
        "        # use ReLU in place of tanh function since they are very good alternatives of each other\n",
        "\n",
        "        tf.keras.layers.Conv1D(filters=filter_one, kernel_size=3, padding=padding, activation='relu'),\n",
        "        tf.keras.layers.MaxPool1D(pool_size=4),\n",
        "\n",
        "        # During the training of our model, we randomly cause some of the neurons to be excluded\n",
        "        # from the neural network (i.e. drop out) at each step with a fixed probability.\n",
        "        tf.keras.layers.Dropout(drop_out),\n",
        "\n",
        "\n",
        "        tf.keras.layers.Conv1D(filters=filter_two, kernel_size=3, padding=padding, activation='relu'),\n",
        "        tf.keras.layers.MaxPool1D(pool_size=4),\n",
        "        tf.keras.layers.Dropout(drop_out),\n",
        "\n",
        "\n",
        "        tf.keras.layers.Bidirectional(tf.keras.layers.LSTM(32)),\n",
        "        tf.keras.layers.Dropout(drop_out),\n",
        "        tf.keras.layers.Dense(last_dense, activation='relu',kernel_regularizer=regularizers.l2(0.01)), #check with and without this layer\n",
        "\n",
        "        # Add a Dense layer with 3 units and softmax activation.\n",
        "        # When we have multiple outputs, softmax convert outputs layers into a probability distribution.\n",
        "        tf.keras.layers.Dense(num_classes, activation='softmax')\n",
        "    ])\n",
        "    model.summary()\n",
        "\n",
        "    # Decide a model architecture, this is the number of hidden layers and activation functions, etc.\n",
        "\n",
        "    model.compile(loss='categorical_crossentropy', optimizer='adam', metrics=['accuracy'])\n",
        "    plot_model(model, to_file='./CNN-BiLSTM_model_plot.png', show_shapes=True, show_layer_names=True)\n",
        "\n",
        "\n",
        "    #history = model.fit(X_train, y_train, epochs=num_epochs,validation_data=(X_test, y_test),callbacks=[es], verbose=0)\n",
        "\n",
        "\n",
        "    # simple early stopping\n",
        "    es = EarlyStopping(monitor='val_loss', mode='min', verbose=1, patience=10)\n",
        "\n",
        "    # The ModelCheckpoint callback class allows you to define where to checkpoint the model weights,\n",
        "    # how the file should named and under what circumstances to make a checkpoint of the model.\n",
        "\n",
        "    checkpointer = ModelCheckpoint(filepath='./best_CNN-BiLSTM_checkpoint.hdf5',\n",
        "                                   monitor='val_accuracy', verbose=1,\n",
        "                                   save_best_only=True,\n",
        "                                   save_weights_only=False,\n",
        "                                   mode='max',\n",
        "                                   save_freq=\"epoch\")\n",
        "\n",
        "    # Train the model for a given number of epochs(this is for training time, with the training dataset).\n",
        "    # Train our model to get all the paramters to the correct value to map our inputs to our outputs.\n",
        "    # The model is evaluated on the validation dataset at the end of each training epoch.\n",
        "    # The function is called ‘fit’ as we are fitting the parameters to the data.\n",
        "    history = model.fit(X_train, y_train, epochs=num_epochs,validation_data=(X_test, y_test), verbose=2,callbacks=[checkpointer])\n",
        "\n",
        "\n",
        "    # Evaluate the model on the test data (this is for testing time, with the testing dataset)\n",
        "    # Returns the loss value & metrics values for the model in test mode.\n",
        "\n",
        "    print('\\n')\n",
        "    print(\"Evaluate on test data\",'\\n')\n",
        "    test_results = model.evaluate(X_test, y_test,batch_size=64)\n",
        "    print(\"Test Loss:\",test_results[0])\n",
        "    print(\"Test Accuracy:\",test_results[1])\n",
        "\n",
        "    # evaluate the model\n",
        "    #_, train_acc = model.evaluate(X_train, y_train, verbose=0)\n",
        "    #_, test_acc =  model.evaluate(X_test, y_test, verbose=0)\n",
        "    #print('Train: %.3f, Test: %.3f' % (train_acc, test_acc))\n",
        "\n",
        "    # Generate output predictions for the input samples(probabilities -the output of the last layer) on new data\n",
        "    # (this is for somewhere between training and testing time).\n",
        "    # Use this model to do some feed-forward passes to predict novel inputs.\n",
        "\n",
        "    print('\\n')\n",
        "    predictions = model.predict(X_test)\n",
        "    print(\"predictions shape:\", predictions.shape)\n",
        "    y_pred = (predictions)\n",
        "\n",
        "    #Creating a confusion matrix,which compares the y_test and y_pred\n",
        "    #Note The support column in classification_report is:\n",
        "    #the number of occurrences of each class in y_test.It shows testset distribution\n",
        "    # Plotting training and validation loss graph\n",
        "\n",
        "    results = pd.DataFrame(\n",
        "    confusion_matrix( y_test.argmax(axis=1), y_pred.argmax(axis=1)),\n",
        "    index=['D', 'L', 'Z'],\n",
        "    columns=['D', 'L', 'Z'])\n",
        "\n",
        "    print('-'*80,'\\n')\n",
        "    print('Confusion Matrix of Hybrid CNN and Bi-LSTM Model', '\\n')\n",
        "    print(results,'\\n')\n",
        "\n",
        "    print('Classification Report : ','\\n')\n",
        "    target_names = ['D-variety', 'L-variety', 'Z-variety']\n",
        "    print (classification_report(y_test.argmax(axis=1),y_pred.argmax(axis=1),target_names=target_names),'\\n')\n",
        "\n",
        "\n",
        "    # Plotting training and validation loss graph\n",
        "    print(\"Training and Validation Loss Graph\")\n",
        "    plt.plot(history.history['loss'], label='train loss')\n",
        "    plt.plot(history.history['val_loss'], label='val loss')\n",
        "    plt.title('Model Loss')\n",
        "    plt.ylabel('Loss')\n",
        "    plt.xlabel('epoch')\n",
        "    plt.legend()\n",
        "    plt.show()\n",
        "\n",
        "    # Plotting training and validation Accuracy graph\n",
        "    plt.plot(history.history['accuracy'], label='train acc')\n",
        "    plt.plot(history.history['val_accuracy'], label='val acc')\n",
        "    plt.title('Model Accuracy')\n",
        "    plt.ylabel('accuracy')\n",
        "    plt.xlabel('epoch')\n",
        "    plt.legend()\n",
        "    plt.show()\n",
        "\n",
        "    return history.history"
      ],
      "id": "8dc1632d",
      "execution_count": null,
      "outputs": []
    },
    {
      "cell_type": "code",
      "metadata": {
        "colab": {
          "base_uri": "https://localhost:8080/",
          "height": 1000
        },
        "id": "bc5c6603",
        "scrolled": false,
        "outputId": "1c842b71-6142-42a6-e760-c6bb9ec50170"
      },
      "source": [
        "\n",
        "max_features = max_features\n",
        "embedding_dim = 64\n",
        "cnn_bilstm_model(drop_out=0.5, filter_one=128, filter_two=64,learning_rate=1e-5,last_dense=64, padding='same', num_epochs=60)"
      ],
      "id": "bc5c6603",
      "execution_count": null,
      "outputs": [
        {
          "name": "stdout",
          "output_type": "stream",
          "text": [
            "Model: \"sequential_4\"\n",
            "_________________________________________________________________\n",
            "Layer (type)                 Output Shape              Param #   \n",
            "=================================================================\n",
            "embedding_4 (Embedding)      (None, 500, 64)           1280128   \n",
            "_________________________________________________________________\n",
            "conv1d_8 (Conv1D)            (None, 500, 128)          24704     \n",
            "_________________________________________________________________\n",
            "max_pooling1d_4 (MaxPooling1 (None, 125, 128)          0         \n",
            "_________________________________________________________________\n",
            "dropout_10 (Dropout)         (None, 125, 128)          0         \n",
            "_________________________________________________________________\n",
            "conv1d_9 (Conv1D)            (None, 125, 64)           24640     \n",
            "_________________________________________________________________\n",
            "max_pooling1d_5 (MaxPooling1 (None, 31, 64)            0         \n",
            "_________________________________________________________________\n",
            "dropout_11 (Dropout)         (None, 31, 64)            0         \n",
            "_________________________________________________________________\n",
            "bidirectional_2 (Bidirection (None, 64)                24832     \n",
            "_________________________________________________________________\n",
            "dropout_12 (Dropout)         (None, 64)                0         \n",
            "_________________________________________________________________\n",
            "dense_8 (Dense)              (None, 64)                4160      \n",
            "_________________________________________________________________\n",
            "dense_9 (Dense)              (None, 3)                 195       \n",
            "=================================================================\n",
            "Total params: 1,358,659\n",
            "Trainable params: 1,358,659\n",
            "Non-trainable params: 0\n",
            "_________________________________________________________________\n",
            "Epoch 1/60\n",
            "200/200 - 11s - loss: 1.2738 - accuracy: 0.4194 - val_loss: 0.7267 - val_accuracy: 0.7016\n",
            "\n",
            "Epoch 00001: val_accuracy improved from -inf to 0.70157, saving model to ./best_CNN-BiLSTM_checkpoint.hdf5\n",
            "Epoch 2/60\n",
            "200/200 - 6s - loss: 0.6093 - accuracy: 0.7663 - val_loss: 0.4152 - val_accuracy: 0.8426\n",
            "\n",
            "Epoch 00002: val_accuracy improved from 0.70157 to 0.84263, saving model to ./best_CNN-BiLSTM_checkpoint.hdf5\n",
            "Epoch 3/60\n",
            "200/200 - 6s - loss: 0.4307 - accuracy: 0.8441 - val_loss: 0.3327 - val_accuracy: 0.8777\n",
            "\n",
            "Epoch 00003: val_accuracy improved from 0.84263 to 0.87774, saving model to ./best_CNN-BiLSTM_checkpoint.hdf5\n",
            "Epoch 4/60\n",
            "200/200 - 6s - loss: 0.3594 - accuracy: 0.8734 - val_loss: 0.3627 - val_accuracy: 0.8608\n",
            "\n",
            "Epoch 00004: val_accuracy did not improve from 0.87774\n",
            "Epoch 5/60\n",
            "200/200 - 6s - loss: 0.3229 - accuracy: 0.8852 - val_loss: 0.2938 - val_accuracy: 0.8978\n",
            "\n",
            "Epoch 00005: val_accuracy improved from 0.87774 to 0.89781, saving model to ./best_CNN-BiLSTM_checkpoint.hdf5\n",
            "Epoch 6/60\n",
            "200/200 - 6s - loss: 0.2885 - accuracy: 0.9001 - val_loss: 0.2857 - val_accuracy: 0.8940\n",
            "\n",
            "Epoch 00006: val_accuracy did not improve from 0.89781\n",
            "Epoch 7/60\n",
            "200/200 - 6s - loss: 0.2766 - accuracy: 0.9024 - val_loss: 0.2629 - val_accuracy: 0.8978\n",
            "\n",
            "Epoch 00007: val_accuracy did not improve from 0.89781\n",
            "Epoch 8/60\n",
            "200/200 - 6s - loss: 0.2584 - accuracy: 0.9053 - val_loss: 0.2616 - val_accuracy: 0.9034\n",
            "\n",
            "Epoch 00008: val_accuracy improved from 0.89781 to 0.90345, saving model to ./best_CNN-BiLSTM_checkpoint.hdf5\n",
            "Epoch 9/60\n",
            "200/200 - 6s - loss: 0.2343 - accuracy: 0.9155 - val_loss: 0.2507 - val_accuracy: 0.9060\n",
            "\n",
            "Epoch 00009: val_accuracy improved from 0.90345 to 0.90596, saving model to ./best_CNN-BiLSTM_checkpoint.hdf5\n",
            "Epoch 10/60\n",
            "200/200 - 6s - loss: 0.2354 - accuracy: 0.9161 - val_loss: 0.2484 - val_accuracy: 0.9085\n",
            "\n",
            "Epoch 00010: val_accuracy improved from 0.90596 to 0.90846, saving model to ./best_CNN-BiLSTM_checkpoint.hdf5\n",
            "Epoch 11/60\n",
            "200/200 - 6s - loss: 0.2145 - accuracy: 0.9264 - val_loss: 0.2601 - val_accuracy: 0.9078\n",
            "\n",
            "Epoch 00011: val_accuracy did not improve from 0.90846\n",
            "Epoch 12/60\n",
            "200/200 - 6s - loss: 0.2076 - accuracy: 0.9269 - val_loss: 0.2439 - val_accuracy: 0.9066\n",
            "\n",
            "Epoch 00012: val_accuracy did not improve from 0.90846\n",
            "Epoch 13/60\n",
            "200/200 - 6s - loss: 0.1956 - accuracy: 0.9315 - val_loss: 0.2706 - val_accuracy: 0.9041\n",
            "\n",
            "Epoch 00013: val_accuracy did not improve from 0.90846\n",
            "Epoch 14/60\n",
            "200/200 - 6s - loss: 0.1892 - accuracy: 0.9354 - val_loss: 0.2482 - val_accuracy: 0.9047\n",
            "\n",
            "Epoch 00014: val_accuracy did not improve from 0.90846\n",
            "Epoch 15/60\n",
            "200/200 - 6s - loss: 0.1909 - accuracy: 0.9326 - val_loss: 0.2846 - val_accuracy: 0.8991\n",
            "\n",
            "Epoch 00015: val_accuracy did not improve from 0.90846\n",
            "Epoch 16/60\n",
            "200/200 - 6s - loss: 0.1823 - accuracy: 0.9384 - val_loss: 0.2714 - val_accuracy: 0.9034\n",
            "\n",
            "Epoch 00016: val_accuracy did not improve from 0.90846\n",
            "Epoch 17/60\n",
            "200/200 - 6s - loss: 0.1788 - accuracy: 0.9373 - val_loss: 0.2614 - val_accuracy: 0.9047\n",
            "\n",
            "Epoch 00017: val_accuracy did not improve from 0.90846\n",
            "Epoch 18/60\n",
            "200/200 - 6s - loss: 0.1739 - accuracy: 0.9371 - val_loss: 0.2471 - val_accuracy: 0.9091\n",
            "\n",
            "Epoch 00018: val_accuracy improved from 0.90846 to 0.90909, saving model to ./best_CNN-BiLSTM_checkpoint.hdf5\n",
            "Epoch 19/60\n",
            "200/200 - 6s - loss: 0.1793 - accuracy: 0.9359 - val_loss: 0.2420 - val_accuracy: 0.9022\n",
            "\n",
            "Epoch 00019: val_accuracy did not improve from 0.90909\n",
            "Epoch 20/60\n",
            "200/200 - 6s - loss: 0.1655 - accuracy: 0.9393 - val_loss: 0.2461 - val_accuracy: 0.9078\n",
            "\n",
            "Epoch 00020: val_accuracy did not improve from 0.90909\n",
            "Epoch 21/60\n",
            "200/200 - 6s - loss: 0.1574 - accuracy: 0.9478 - val_loss: 0.2413 - val_accuracy: 0.9135\n",
            "\n",
            "Epoch 00021: val_accuracy improved from 0.90909 to 0.91348, saving model to ./best_CNN-BiLSTM_checkpoint.hdf5\n",
            "Epoch 22/60\n",
            "200/200 - 6s - loss: 0.1675 - accuracy: 0.9409 - val_loss: 0.2493 - val_accuracy: 0.9078\n",
            "\n",
            "Epoch 00022: val_accuracy did not improve from 0.91348\n",
            "Epoch 23/60\n",
            "200/200 - 6s - loss: 0.1484 - accuracy: 0.9500 - val_loss: 0.2539 - val_accuracy: 0.9085\n",
            "\n",
            "Epoch 00023: val_accuracy did not improve from 0.91348\n",
            "Epoch 24/60\n",
            "200/200 - 6s - loss: 0.1562 - accuracy: 0.9446 - val_loss: 0.2431 - val_accuracy: 0.9122\n",
            "\n",
            "Epoch 00024: val_accuracy did not improve from 0.91348\n",
            "Epoch 25/60\n",
            "200/200 - 6s - loss: 0.1463 - accuracy: 0.9515 - val_loss: 0.2622 - val_accuracy: 0.9097\n",
            "\n",
            "Epoch 00025: val_accuracy did not improve from 0.91348\n",
            "Epoch 26/60\n",
            "200/200 - 6s - loss: 0.1412 - accuracy: 0.9506 - val_loss: 0.2334 - val_accuracy: 0.9166\n",
            "\n",
            "Epoch 00026: val_accuracy improved from 0.91348 to 0.91661, saving model to ./best_CNN-BiLSTM_checkpoint.hdf5\n",
            "Epoch 27/60\n",
            "200/200 - 6s - loss: 0.1444 - accuracy: 0.9495 - val_loss: 0.2852 - val_accuracy: 0.9103\n",
            "\n",
            "Epoch 00027: val_accuracy did not improve from 0.91661\n",
            "Epoch 28/60\n",
            "200/200 - 6s - loss: 0.1410 - accuracy: 0.9508 - val_loss: 0.2787 - val_accuracy: 0.9091\n",
            "\n",
            "Epoch 00028: val_accuracy did not improve from 0.91661\n",
            "Epoch 29/60\n",
            "200/200 - 6s - loss: 0.1498 - accuracy: 0.9506 - val_loss: 0.2406 - val_accuracy: 0.9053\n",
            "\n",
            "Epoch 00029: val_accuracy did not improve from 0.91661\n",
            "Epoch 30/60\n",
            "200/200 - 6s - loss: 0.1462 - accuracy: 0.9493 - val_loss: 0.2632 - val_accuracy: 0.9041\n",
            "\n",
            "Epoch 00030: val_accuracy did not improve from 0.91661\n",
            "Epoch 31/60\n",
            "200/200 - 6s - loss: 0.1313 - accuracy: 0.9553 - val_loss: 0.2538 - val_accuracy: 0.9197\n",
            "\n",
            "Epoch 00031: val_accuracy improved from 0.91661 to 0.91975, saving model to ./best_CNN-BiLSTM_checkpoint.hdf5\n",
            "Epoch 32/60\n",
            "200/200 - 6s - loss: 0.1284 - accuracy: 0.9548 - val_loss: 0.2484 - val_accuracy: 0.9047\n",
            "\n",
            "Epoch 00032: val_accuracy did not improve from 0.91975\n",
            "Epoch 33/60\n",
            "200/200 - 6s - loss: 0.1397 - accuracy: 0.9539 - val_loss: 0.2413 - val_accuracy: 0.9122\n",
            "\n",
            "Epoch 00033: val_accuracy did not improve from 0.91975\n",
            "Epoch 34/60\n",
            "200/200 - 6s - loss: 0.1334 - accuracy: 0.9529 - val_loss: 0.2548 - val_accuracy: 0.9110\n",
            "\n",
            "Epoch 00034: val_accuracy did not improve from 0.91975\n",
            "Epoch 35/60\n",
            "200/200 - 6s - loss: 0.1233 - accuracy: 0.9564 - val_loss: 0.2657 - val_accuracy: 0.9041\n",
            "\n",
            "Epoch 00035: val_accuracy did not improve from 0.91975\n",
            "Epoch 36/60\n",
            "200/200 - 6s - loss: 0.1275 - accuracy: 0.9523 - val_loss: 0.2428 - val_accuracy: 0.9085\n",
            "\n",
            "Epoch 00036: val_accuracy did not improve from 0.91975\n",
            "Epoch 37/60\n",
            "200/200 - 6s - loss: 0.1227 - accuracy: 0.9586 - val_loss: 0.2782 - val_accuracy: 0.8997\n",
            "\n",
            "Epoch 00037: val_accuracy did not improve from 0.91975\n",
            "Epoch 38/60\n",
            "200/200 - 6s - loss: 0.1240 - accuracy: 0.9540 - val_loss: 0.2376 - val_accuracy: 0.9129\n",
            "\n",
            "Epoch 00038: val_accuracy did not improve from 0.91975\n",
            "Epoch 39/60\n",
            "200/200 - 6s - loss: 0.1147 - accuracy: 0.9600 - val_loss: 0.2487 - val_accuracy: 0.9078\n",
            "\n",
            "Epoch 00039: val_accuracy did not improve from 0.91975\n",
            "Epoch 40/60\n",
            "200/200 - 6s - loss: 0.1223 - accuracy: 0.9558 - val_loss: 0.2335 - val_accuracy: 0.9122\n",
            "\n",
            "Epoch 00040: val_accuracy did not improve from 0.91975\n",
            "Epoch 41/60\n",
            "200/200 - 6s - loss: 0.1170 - accuracy: 0.9586 - val_loss: 0.2534 - val_accuracy: 0.9172\n",
            "\n",
            "Epoch 00041: val_accuracy did not improve from 0.91975\n",
            "Epoch 42/60\n",
            "200/200 - 6s - loss: 0.1132 - accuracy: 0.9595 - val_loss: 0.2255 - val_accuracy: 0.9166\n",
            "\n",
            "Epoch 00042: val_accuracy did not improve from 0.91975\n",
            "Epoch 43/60\n",
            "200/200 - 6s - loss: 0.1170 - accuracy: 0.9566 - val_loss: 0.2422 - val_accuracy: 0.9116\n",
            "\n",
            "Epoch 00043: val_accuracy did not improve from 0.91975\n",
            "Epoch 44/60\n",
            "200/200 - 6s - loss: 0.1140 - accuracy: 0.9603 - val_loss: 0.2437 - val_accuracy: 0.9091\n",
            "\n",
            "Epoch 00044: val_accuracy did not improve from 0.91975\n",
            "Epoch 45/60\n",
            "200/200 - 6s - loss: 0.1076 - accuracy: 0.9631 - val_loss: 0.2367 - val_accuracy: 0.9172\n",
            "\n",
            "Epoch 00045: val_accuracy did not improve from 0.91975\n",
            "Epoch 46/60\n",
            "200/200 - 6s - loss: 0.1182 - accuracy: 0.9598 - val_loss: 0.2436 - val_accuracy: 0.9166\n",
            "\n",
            "Epoch 00046: val_accuracy did not improve from 0.91975\n",
            "Epoch 47/60\n",
            "200/200 - 6s - loss: 0.1148 - accuracy: 0.9597 - val_loss: 0.2559 - val_accuracy: 0.9091\n",
            "\n",
            "Epoch 00047: val_accuracy did not improve from 0.91975\n",
            "Epoch 48/60\n",
            "200/200 - 6s - loss: 0.1249 - accuracy: 0.9577 - val_loss: 0.2174 - val_accuracy: 0.9166\n",
            "\n",
            "Epoch 00048: val_accuracy did not improve from 0.91975\n",
            "Epoch 49/60\n",
            "200/200 - 6s - loss: 0.1026 - accuracy: 0.9647 - val_loss: 0.2707 - val_accuracy: 0.9122\n",
            "\n",
            "Epoch 00049: val_accuracy did not improve from 0.91975\n",
            "Epoch 50/60\n",
            "200/200 - 6s - loss: 0.1127 - accuracy: 0.9611 - val_loss: 0.2283 - val_accuracy: 0.9154\n",
            "\n",
            "Epoch 00050: val_accuracy did not improve from 0.91975\n",
            "Epoch 51/60\n",
            "200/200 - 6s - loss: 0.1113 - accuracy: 0.9625 - val_loss: 0.2576 - val_accuracy: 0.9135\n",
            "\n",
            "Epoch 00051: val_accuracy did not improve from 0.91975\n",
            "Epoch 52/60\n",
            "200/200 - 6s - loss: 0.1044 - accuracy: 0.9653 - val_loss: 0.2382 - val_accuracy: 0.9116\n",
            "\n",
            "Epoch 00052: val_accuracy did not improve from 0.91975\n",
            "Epoch 53/60\n",
            "200/200 - 6s - loss: 0.1059 - accuracy: 0.9639 - val_loss: 0.2593 - val_accuracy: 0.9129\n",
            "\n",
            "Epoch 00053: val_accuracy did not improve from 0.91975\n",
            "Epoch 54/60\n",
            "200/200 - 6s - loss: 0.1137 - accuracy: 0.9603 - val_loss: 0.2467 - val_accuracy: 0.9122\n",
            "\n",
            "Epoch 00054: val_accuracy did not improve from 0.91975\n",
            "Epoch 55/60\n",
            "200/200 - 6s - loss: 0.1054 - accuracy: 0.9635 - val_loss: 0.2607 - val_accuracy: 0.9060\n",
            "\n",
            "Epoch 00055: val_accuracy did not improve from 0.91975\n",
            "Epoch 56/60\n",
            "200/200 - 6s - loss: 0.1036 - accuracy: 0.9655 - val_loss: 0.2641 - val_accuracy: 0.9060\n",
            "\n",
            "Epoch 00056: val_accuracy did not improve from 0.91975\n",
            "Epoch 57/60\n",
            "200/200 - 6s - loss: 0.1013 - accuracy: 0.9652 - val_loss: 0.2688 - val_accuracy: 0.9085\n",
            "\n",
            "Epoch 00057: val_accuracy did not improve from 0.91975\n",
            "Epoch 58/60\n",
            "200/200 - 6s - loss: 0.1007 - accuracy: 0.9663 - val_loss: 0.2392 - val_accuracy: 0.9154\n",
            "\n",
            "Epoch 00058: val_accuracy did not improve from 0.91975\n",
            "Epoch 59/60\n",
            "200/200 - 6s - loss: 0.0957 - accuracy: 0.9682 - val_loss: 0.2333 - val_accuracy: 0.9241\n",
            "\n",
            "Epoch 00059: val_accuracy improved from 0.91975 to 0.92414, saving model to ./best_CNN-BiLSTM_checkpoint.hdf5\n",
            "Epoch 60/60\n",
            "200/200 - 6s - loss: 0.1056 - accuracy: 0.9636 - val_loss: 0.2212 - val_accuracy: 0.9172\n",
            "\n",
            "Epoch 00060: val_accuracy did not improve from 0.92414\n",
            "\n",
            "\n",
            "Evaluate on test data \n",
            "\n",
            "25/25 [==============================] - 0s 16ms/step - loss: 0.2212 - accuracy: 0.9172\n",
            "Test Loss: 0.22118711471557617\n",
            "Test Accuracy: 0.9172413945198059\n",
            "\n",
            "\n",
            "predictions shape: (1595, 3)\n",
            "-------------------------------------------------------------------------------- \n",
            "\n",
            "Confusion Matrix of Hybrid CNN and Bi-LSTM Model \n",
            "\n",
            "     D    L    Z\n",
            "D  550   22    4\n",
            "L   23  427   51\n",
            "Z   11   21  486 \n",
            "\n",
            "Classification Report :  \n",
            "\n",
            "              precision    recall  f1-score   support\n",
            "\n",
            "   D-variety       0.94      0.95      0.95       576\n",
            "   L-variety       0.91      0.85      0.88       501\n",
            "   Z-variety       0.90      0.94      0.92       518\n",
            "\n",
            "    accuracy                           0.92      1595\n",
            "   macro avg       0.92      0.92      0.92      1595\n",
            "weighted avg       0.92      0.92      0.92      1595\n",
            " \n",
            "\n",
            "Training and Validation Loss Graph\n"
          ]
        },
        {
          "data": {
            "image/png": "[encoded data removed]",
            "text/plain": [
              "<Figure size 432x288 with 1 Axes>"
            ]
          },
          "metadata": {},
          "output_type": "display_data"
        },
        {
          "data": {
            "image/png": "[encoded data removed]",
            "text/plain": [
              "<Figure size 432x288 with 1 Axes>"
            ]
          },
          "metadata": {},
          "output_type": "display_data"
        },
        {
          "data": {
            "text/plain": [
              "{'accuracy': [0.4193851947784424,\n",
              "  0.7663111686706543,\n",
              "  0.8441028594970703,\n",
              "  0.8734316229820251,\n",
              "  0.8851944804191589,\n",
              "  0.9000940918922424,\n",
              "  0.9024466872215271,\n",
              "  0.9052697420120239,\n",
              "  0.9154642224311829,\n",
              "  0.9160916209220886,\n",
              "  0.9264429211616516,\n",
              "  0.9269134402275085,\n",
              "  0.931461751461029,\n",
              "  0.9353826642036438,\n",
              "  0.932559609413147,\n",
              "  0.9383625984191895,\n",
              "  0.9372647404670715,\n",
              "  0.9371079206466675,\n",
              "  0.9358531832695007,\n",
              "  0.9393036365509033,\n",
              "  0.9477729201316833,\n",
              "  0.9408720135688782,\n",
              "  0.9499686360359192,\n",
              "  0.9446361064910889,\n",
              "  0.951537013053894,\n",
              "  0.9505959749221802,\n",
              "  0.9494981169700623,\n",
              "  0.9507527947425842,\n",
              "  0.9505959749221802,\n",
              "  0.9493412971496582,\n",
              "  0.9553011059761047,\n",
              "  0.9548305869102478,\n",
              "  0.9538896083831787,\n",
              "  0.9529485702514648,\n",
              "  0.9563990235328674,\n",
              "  0.9523212313652039,\n",
              "  0.9585947394371033,\n",
              "  0.9540464282035828,\n",
              "  0.9600062966346741,\n",
              "  0.9557716250419617,\n",
              "  0.9585947394371033,\n",
              "  0.9595357775688171,\n",
              "  0.9565558433532715,\n",
              "  0.9603199362754822,\n",
              "  0.9631430506706238,\n",
              "  0.9598494172096252,\n",
              "  0.9596925973892212,\n",
              "  0.9576537013053894,\n",
              "  0.9647114276885986,\n",
              "  0.961104154586792,\n",
              "  0.9625157117843628,\n",
              "  0.9653387665748596,\n",
              "  0.9639272093772888,\n",
              "  0.9603199362754822,\n",
              "  0.9634566903114319,\n",
              "  0.9654955863952637,\n",
              "  0.9651819467544556,\n",
              "  0.9662798047065735,\n",
              "  0.9681618809700012,\n",
              "  0.9636135697364807],\n",
              " 'loss': [1.2738100290298462,\n",
              "  0.6093296408653259,\n",
              "  0.4307161271572113,\n",
              "  0.3593575656414032,\n",
              "  0.3229105472564697,\n",
              "  0.2884880304336548,\n",
              "  0.27660924196243286,\n",
              "  0.2584468424320221,\n",
              "  0.23433507978916168,\n",
              "  0.23535719513893127,\n",
              "  0.2144860327243805,\n",
              "  0.20756125450134277,\n",
              "  0.1956438273191452,\n",
              "  0.18919230997562408,\n",
              "  0.19090767204761505,\n",
              "  0.18234707415103912,\n",
              "  0.17882969975471497,\n",
              "  0.173895463347435,\n",
              "  0.17932681739330292,\n",
              "  0.1655331403017044,\n",
              "  0.15740609169006348,\n",
              "  0.16754136979579926,\n",
              "  0.14836068451404572,\n",
              "  0.15624579787254333,\n",
              "  0.14625495672225952,\n",
              "  0.14123451709747314,\n",
              "  0.14438936114311218,\n",
              "  0.14104238152503967,\n",
              "  0.14981678128242493,\n",
              "  0.14615009725093842,\n",
              "  0.1312718689441681,\n",
              "  0.12836186587810516,\n",
              "  0.13974565267562866,\n",
              "  0.1333523392677307,\n",
              "  0.12326548248529434,\n",
              "  0.12753921747207642,\n",
              "  0.122702956199646,\n",
              "  0.123951256275177,\n",
              "  0.11468230932950974,\n",
              "  0.12225446850061417,\n",
              "  0.11704958975315094,\n",
              "  0.11315871775150299,\n",
              "  0.11702658981084824,\n",
              "  0.11402387917041779,\n",
              "  0.10756349563598633,\n",
              "  0.1182190403342247,\n",
              "  0.11477664858102798,\n",
              "  0.12494899332523346,\n",
              "  0.10256560891866684,\n",
              "  0.11273323744535446,\n",
              "  0.11130232363939285,\n",
              "  0.1043785959482193,\n",
              "  0.10594231635332108,\n",
              "  0.11369793862104416,\n",
              "  0.10540942847728729,\n",
              "  0.10357372462749481,\n",
              "  0.10133888572454453,\n",
              "  0.10065606981515884,\n",
              "  0.0957145094871521,\n",
              "  0.1056220531463623],\n",
              " 'val_accuracy': [0.7015674114227295,\n",
              "  0.8426332473754883,\n",
              "  0.8777429461479187,\n",
              "  0.8608150482177734,\n",
              "  0.8978056311607361,\n",
              "  0.8940438628196716,\n",
              "  0.8978056311607361,\n",
              "  0.9034482836723328,\n",
              "  0.9059560894966125,\n",
              "  0.9084639549255371,\n",
              "  0.9078369736671448,\n",
              "  0.9065830707550049,\n",
              "  0.9040752053260803,\n",
              "  0.9047021865844727,\n",
              "  0.899059534072876,\n",
              "  0.9034482836723328,\n",
              "  0.9047021865844727,\n",
              "  0.9090909361839294,\n",
              "  0.9021943807601929,\n",
              "  0.9078369736671448,\n",
              "  0.9134796261787415,\n",
              "  0.9078369736671448,\n",
              "  0.9084639549255371,\n",
              "  0.9122257232666016,\n",
              "  0.909717857837677,\n",
              "  0.9166144132614136,\n",
              "  0.9103448390960693,\n",
              "  0.9090909361839294,\n",
              "  0.905329167842865,\n",
              "  0.9040752053260803,\n",
              "  0.9197492003440857,\n",
              "  0.9047021865844727,\n",
              "  0.9122257232666016,\n",
              "  0.9109717607498169,\n",
              "  0.9040752053260803,\n",
              "  0.9084639549255371,\n",
              "  0.8996865153312683,\n",
              "  0.9128526449203491,\n",
              "  0.9078369736671448,\n",
              "  0.9122257232666016,\n",
              "  0.9172413945198059,\n",
              "  0.9166144132614136,\n",
              "  0.9115987420082092,\n",
              "  0.9090909361839294,\n",
              "  0.9172413945198059,\n",
              "  0.9166144132614136,\n",
              "  0.9090909361839294,\n",
              "  0.9166144132614136,\n",
              "  0.9122257232666016,\n",
              "  0.9153605103492737,\n",
              "  0.9134796261787415,\n",
              "  0.9115987420082092,\n",
              "  0.9128526449203491,\n",
              "  0.9122257232666016,\n",
              "  0.9059560894966125,\n",
              "  0.9059560894966125,\n",
              "  0.9084639549255371,\n",
              "  0.9153605103492737,\n",
              "  0.9241379499435425,\n",
              "  0.9172413945198059],\n",
              " 'val_loss': [0.7266819477081299,\n",
              "  0.41521453857421875,\n",
              "  0.33273735642433167,\n",
              "  0.362687349319458,\n",
              "  0.29384705424308777,\n",
              "  0.2857251465320587,\n",
              "  0.2629025876522064,\n",
              "  0.26159483194351196,\n",
              "  0.25068989396095276,\n",
              "  0.24842806160449982,\n",
              "  0.26014551520347595,\n",
              "  0.24390053749084473,\n",
              "  0.27056172490119934,\n",
              "  0.24818311631679535,\n",
              "  0.2845982611179352,\n",
              "  0.27143850922584534,\n",
              "  0.26141732931137085,\n",
              "  0.24707980453968048,\n",
              "  0.24195852875709534,\n",
              "  0.24607396125793457,\n",
              "  0.24131803214550018,\n",
              "  0.24926941096782684,\n",
              "  0.25391507148742676,\n",
              "  0.24307960271835327,\n",
              "  0.2622102200984955,\n",
              "  0.23342661559581757,\n",
              "  0.2851569652557373,\n",
              "  0.2787424623966217,\n",
              "  0.24055802822113037,\n",
              "  0.26318249106407166,\n",
              "  0.25382888317108154,\n",
              "  0.24839670956134796,\n",
              "  0.24133756756782532,\n",
              "  0.25484731793403625,\n",
              "  0.26567408442497253,\n",
              "  0.24284987151622772,\n",
              "  0.278241902589798,\n",
              "  0.23758257925510406,\n",
              "  0.24871359765529633,\n",
              "  0.23353202641010284,\n",
              "  0.2534211575984955,\n",
              "  0.22546318173408508,\n",
              "  0.2421756237745285,\n",
              "  0.2436705231666565,\n",
              "  0.23674848675727844,\n",
              "  0.24363002181053162,\n",
              "  0.255881667137146,\n",
              "  0.21739473938941956,\n",
              "  0.27070510387420654,\n",
              "  0.22832432389259338,\n",
              "  0.25757545232772827,\n",
              "  0.2382335066795349,\n",
              "  0.25931698083877563,\n",
              "  0.2466585785150528,\n",
              "  0.2606504559516907,\n",
              "  0.26407548785209656,\n",
              "  0.26881736516952515,\n",
              "  0.23915301263332367,\n",
              "  0.23328101634979248,\n",
              "  0.22118708491325378]}"
            ]
          },
          "execution_count": 47,
          "metadata": {},
          "output_type": "execute_result"
        }
      ]
    },
    {
      "cell_type": "code",
      "metadata": {
        "id": "a8h2aRV2RK9O"
      },
      "source": [
        "os.chdir('/content/gdrive/MyDrive/ColabNotebooks/')"
      ],
      "id": "a8h2aRV2RK9O",
      "execution_count": null,
      "outputs": []
    },
    {
      "cell_type": "code",
      "metadata": {
        "colab": {
          "base_uri": "https://localhost:8080/"
        },
        "id": "IqEKWi-AN5aV",
        "outputId": "5d5729bc-e787-4b00-d323-f6b85822d130"
      },
      "source": [
        "!ls /content/gdrive/MyDrive/ColabNotebooks/"
      ],
      "id": "IqEKWi-AN5aV",
      "execution_count": null,
      "outputs": [
        {
          "name": "stdout",
          "output_type": "stream",
          "text": [
            " all_source111.tsv     'Multi-Class Text Classification with LSTM TDI  .ipynb'\n",
            " DL-char-ngrams.ipynb  'Text Classification with LSTM TDI .ipynb'\n"
          ]
        }
      ]
    },
    {
      "cell_type": "code",
      "metadata": {
        "id": "Qz5prpOr-oY3"
      },
      "source": [],
      "id": "Qz5prpOr-oY3",
      "execution_count": null,
      "outputs": []
    }
  ]
}